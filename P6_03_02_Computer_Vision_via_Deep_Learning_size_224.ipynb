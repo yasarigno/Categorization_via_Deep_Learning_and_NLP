{
 "cells": [
  {
   "cell_type": "markdown",
   "id": "rH9ZT6iavRQ_",
   "metadata": {
    "id": "rH9ZT6iavRQ_"
   },
   "source": [
    "<h2 style=\"color:darkred;font-size:25px\">Projet 6 : Classifiez automatiquement des biens de consommation</h2>\n",
    "\n",
    "<img src=\"support\\logo.png\" style=\"width: 350px;\"/>\n",
    "\n",
    "<h2 style=\"color:darkred;font-size:25px\">Notebook 3.1 : Computer Vision via Deep Learning (Image size = 224 x 224)</h2>\n",
    "\n",
    "---\n",
    "---\n",
    "---"
   ]
  },
  {
   "cell_type": "markdown",
   "id": "R3OAmCoJthJ2",
   "metadata": {
    "id": "R3OAmCoJthJ2"
   },
   "source": [
    "### Téléchargement du jeux de données"
   ]
  },
  {
   "cell_type": "code",
   "execution_count": 72,
   "id": "4995949b",
   "metadata": {
    "colab": {
     "base_uri": "https://localhost:8080/"
    },
    "executionInfo": {
     "elapsed": 309,
     "status": "ok",
     "timestamp": 1640007522302,
     "user": {
      "displayName": "FIRAT YASAR",
      "photoUrl": "https://lh3.googleusercontent.com/a-/AOh14GhVcZnP-Z8h1PArfwtCXlEBwsA0em5WXleUX9MY=s64",
      "userId": "11059238169428736777"
     },
     "user_tz": -60
    },
    "id": "4995949b",
    "outputId": "d0afad42-d79f-4ca0-99bc-e472f7dad9b5"
   },
   "outputs": [
    {
     "name": "stdout",
     "output_type": "stream",
     "text": [
      "Tensor Flow Version: 2.7.0\n",
      "Keras Version: 2.7.0\n",
      "\n",
      "Python 3.7.12 (default, Sep 10 2021, 00:21:48) \n",
      "[GCC 7.5.0]\n",
      "Pandas 1.1.5\n",
      "Scikit-Learn 1.0.1\n"
     ]
    }
   ],
   "source": [
    "# What version of Python do you have?\n",
    "import sys\n",
    "\n",
    "import tensorflow.keras\n",
    "from tensorflow.keras import layers\n",
    "\n",
    "import pandas as pd\n",
    "import sklearn as sk\n",
    "import tensorflow as tf\n",
    "\n",
    "print(f\"Tensor Flow Version: {tf.__version__}\")\n",
    "print(f\"Keras Version: {tensorflow.keras.__version__}\")\n",
    "print()\n",
    "print(f\"Python {sys.version}\")\n",
    "print(f\"Pandas {pd.__version__}\")\n",
    "print(f\"Scikit-Learn {sk.__version__}\")"
   ]
  },
  {
   "cell_type": "code",
   "execution_count": 73,
   "id": "532f484f",
   "metadata": {
    "executionInfo": {
     "elapsed": 8,
     "status": "ok",
     "timestamp": 1640007523118,
     "user": {
      "displayName": "FIRAT YASAR",
      "photoUrl": "https://lh3.googleusercontent.com/a-/AOh14GhVcZnP-Z8h1PArfwtCXlEBwsA0em5WXleUX9MY=s64",
      "userId": "11059238169428736777"
     },
     "user_tz": -60
    },
    "id": "532f484f"
   },
   "outputs": [],
   "source": [
    "import numpy as np \n",
    "import matplotlib.pyplot as plt\n",
    "import glob\n",
    "import cv2\n",
    "\n",
    "# from tensorflow.keras.layers import Input, Dense, Model, Sequential, Flatten, Conv2D, MaxPooling2D\n",
    "from tensorflow.keras.models import Model, Sequential\n",
    "from tensorflow.keras.layers import Dense, Flatten, Conv2D, MaxPooling2D\n",
    "\n",
    "from tensorflow.keras.layers import BatchNormalization\n",
    "import os\n",
    "import seaborn as sns"
   ]
  },
  {
   "cell_type": "code",
   "execution_count": 74,
   "id": "b561f185",
   "metadata": {
    "executionInfo": {
     "elapsed": 8,
     "status": "ok",
     "timestamp": 1640007523119,
     "user": {
      "displayName": "FIRAT YASAR",
      "photoUrl": "https://lh3.googleusercontent.com/a-/AOh14GhVcZnP-Z8h1PArfwtCXlEBwsA0em5WXleUX9MY=s64",
      "userId": "11059238169428736777"
     },
     "user_tz": -60
    },
    "id": "b561f185"
   },
   "outputs": [],
   "source": [
    "from IPython.display import display\n",
    "%matplotlib inline\n",
    "\n",
    "from PIL import Image\n",
    "\n",
    "#from skimage.feature import hog\n",
    "#from skimage.color import rgb2grey\n",
    "\n",
    "from sklearn.model_selection import train_test_split\n",
    "from sklearn.metrics import accuracy_score\n",
    "from sklearn.preprocessing import StandardScaler\n",
    "from sklearn.decomposition import PCA\n",
    "from sklearn.svm import SVC\n",
    "\n",
    "from sklearn.metrics import roc_curve, auc"
   ]
  },
  {
   "cell_type": "code",
   "execution_count": 75,
   "id": "OmHoS4Xs3VgX",
   "metadata": {
    "colab": {
     "base_uri": "https://localhost:8080/"
    },
    "executionInfo": {
     "elapsed": 2009,
     "status": "ok",
     "timestamp": 1640007525121,
     "user": {
      "displayName": "FIRAT YASAR",
      "photoUrl": "https://lh3.googleusercontent.com/a-/AOh14GhVcZnP-Z8h1PArfwtCXlEBwsA0em5WXleUX9MY=s64",
      "userId": "11059238169428736777"
     },
     "user_tz": -60
    },
    "id": "OmHoS4Xs3VgX",
    "outputId": "79743cfa-ff8e-4818-a864-e49c48ecedae"
   },
   "outputs": [
    {
     "name": "stdout",
     "output_type": "stream",
     "text": [
      "Drive already mounted at /content/drive; to attempt to forcibly remount, call drive.mount(\"/content/drive\", force_remount=True).\n"
     ]
    }
   ],
   "source": [
    "from google.colab import drive\n",
    "drive.mount('/content/drive')"
   ]
  },
  {
   "cell_type": "code",
   "execution_count": 76,
   "id": "9d3dad90",
   "metadata": {
    "executionInfo": {
     "elapsed": 13,
     "status": "ok",
     "timestamp": 1640007525121,
     "user": {
      "displayName": "FIRAT YASAR",
      "photoUrl": "https://lh3.googleusercontent.com/a-/AOh14GhVcZnP-Z8h1PArfwtCXlEBwsA0em5WXleUX9MY=s64",
      "userId": "11059238169428736777"
     },
     "user_tz": -60
    },
    "id": "9d3dad90"
   },
   "outputs": [],
   "source": [
    "data = pd.read_csv('/content/drive/MyDrive/Colab Notebooks/P6/data/flipkart_com-ecommerce_sample_1050.csv')"
   ]
  },
  {
   "cell_type": "code",
   "execution_count": 77,
   "id": "d47d6b10",
   "metadata": {
    "executionInfo": {
     "elapsed": 13,
     "status": "ok",
     "timestamp": 1640007525122,
     "user": {
      "displayName": "FIRAT YASAR",
      "photoUrl": "https://lh3.googleusercontent.com/a-/AOh14GhVcZnP-Z8h1PArfwtCXlEBwsA0em5WXleUX9MY=s64",
      "userId": "11059238169428736777"
     },
     "user_tz": -60
    },
    "id": "d47d6b10",
    "scrolled": true
   },
   "outputs": [],
   "source": [
    "data['categorie_1'] = data['product_category_tree'].str.extract('([a-zA-Z ]+)', expand=False).str.strip()"
   ]
  },
  {
   "cell_type": "code",
   "execution_count": 78,
   "id": "b14df82b",
   "metadata": {
    "colab": {
     "base_uri": "https://localhost:8080/"
    },
    "executionInfo": {
     "elapsed": 12,
     "status": "ok",
     "timestamp": 1640007525122,
     "user": {
      "displayName": "FIRAT YASAR",
      "photoUrl": "https://lh3.googleusercontent.com/a-/AOh14GhVcZnP-Z8h1PArfwtCXlEBwsA0em5WXleUX9MY=s64",
      "userId": "11059238169428736777"
     },
     "user_tz": -60
    },
    "id": "b14df82b",
    "outputId": "6dae2f14-fd2b-45f5-e658-46d433f77730"
   },
   "outputs": [
    {
     "name": "stdout",
     "output_type": "stream",
     "text": [
      "1050\n"
     ]
    }
   ],
   "source": [
    "%matplotlib inline\n",
    "from os import listdir\n",
    "from PIL import Image\n",
    "\n",
    "path = \"/content/drive/MyDrive/Colab Notebooks/P6/images/\"\n",
    "list_photos = data['image'].tolist()\n",
    "# list_photos = [file for file in listdir(path)]\n",
    "print(len(list_photos))"
   ]
  },
  {
   "cell_type": "code",
   "execution_count": 79,
   "id": "2fc69a5c",
   "metadata": {
    "colab": {
     "base_uri": "https://localhost:8080/"
    },
    "executionInfo": {
     "elapsed": 18210,
     "status": "ok",
     "timestamp": 1640007543322,
     "user": {
      "displayName": "FIRAT YASAR",
      "photoUrl": "https://lh3.googleusercontent.com/a-/AOh14GhVcZnP-Z8h1PArfwtCXlEBwsA0em5WXleUX9MY=s64",
      "userId": "11059238169428736777"
     },
     "user_tz": -60
    },
    "id": "2fc69a5c",
    "outputId": "0b9a68e0-ebd6-4a19-85f9-8325c1f915a6",
    "scrolled": true
   },
   "outputs": [
    {
     "name": "stdout",
     "output_type": "stream",
     "text": [
      "0\n",
      "100\n",
      "200\n",
      "300\n",
      "400\n",
      "500\n",
      "600\n",
      "700\n",
      "800\n",
      "900\n",
      "1000\n"
     ]
    }
   ],
   "source": [
    "SIZE = 224\n",
    "\n",
    "all_images = []\n",
    "\n",
    "for image_num in range(len(list_photos)) :\n",
    "    if image_num%100 == 0 : print(image_num)\n",
    "    image = cv2.imread(path+list_photos[image_num],0)      \n",
    "    image = cv2.resize(image, (SIZE, SIZE))\n",
    "    image = cv2.cvtColor(image, cv2.COLOR_RGB2BGR)\n",
    "    all_images.append(image)"
   ]
  },
  {
   "cell_type": "code",
   "execution_count": 80,
   "id": "33aed31c",
   "metadata": {
    "colab": {
     "base_uri": "https://localhost:8080/"
    },
    "executionInfo": {
     "elapsed": 10,
     "status": "ok",
     "timestamp": 1640007543323,
     "user": {
      "displayName": "FIRAT YASAR",
      "photoUrl": "https://lh3.googleusercontent.com/a-/AOh14GhVcZnP-Z8h1PArfwtCXlEBwsA0em5WXleUX9MY=s64",
      "userId": "11059238169428736777"
     },
     "user_tz": -60
    },
    "id": "33aed31c",
    "outputId": "cf0d88b3-d31e-4869-f8bf-7e64d00270e4"
   },
   "outputs": [
    {
     "data": {
      "text/plain": [
       "array([[[[202, 202, 202],\n",
       "         [201, 201, 201],\n",
       "         [202, 202, 202],\n",
       "         ...,\n",
       "         [168, 168, 168],\n",
       "         [169, 169, 169],\n",
       "         [168, 168, 168]],\n",
       "\n",
       "        [[206, 206, 206],\n",
       "         [206, 206, 206],\n",
       "         [206, 206, 206],\n",
       "         ...,\n",
       "         [171, 171, 171],\n",
       "         [169, 169, 169],\n",
       "         [170, 170, 170]],\n",
       "\n",
       "        [[208, 208, 208],\n",
       "         [208, 208, 208],\n",
       "         [209, 209, 209],\n",
       "         ...,\n",
       "         [170, 170, 170],\n",
       "         [171, 171, 171],\n",
       "         [170, 170, 170]],\n",
       "\n",
       "        ...,\n",
       "\n",
       "        [[160, 160, 160],\n",
       "         [160, 160, 160],\n",
       "         [161, 161, 161],\n",
       "         ...,\n",
       "         [ 50,  50,  50],\n",
       "         [ 50,  50,  50],\n",
       "         [ 59,  59,  59]],\n",
       "\n",
       "        [[174, 174, 174],\n",
       "         [176, 176, 176],\n",
       "         [175, 175, 175],\n",
       "         ...,\n",
       "         [ 52,  52,  52],\n",
       "         [ 46,  46,  46],\n",
       "         [ 41,  41,  41]],\n",
       "\n",
       "        [[182, 182, 182],\n",
       "         [181, 181, 181],\n",
       "         [182, 182, 182],\n",
       "         ...,\n",
       "         [ 27,  27,  27],\n",
       "         [ 33,  33,  33],\n",
       "         [ 57,  57,  57]]],\n",
       "\n",
       "\n",
       "       [[[255, 255, 255],\n",
       "         [255, 255, 255],\n",
       "         [255, 255, 255],\n",
       "         ...,\n",
       "         [255, 255, 255],\n",
       "         [255, 255, 255],\n",
       "         [255, 255, 255]],\n",
       "\n",
       "        [[255, 255, 255],\n",
       "         [255, 255, 255],\n",
       "         [255, 255, 255],\n",
       "         ...,\n",
       "         [255, 255, 255],\n",
       "         [255, 255, 255],\n",
       "         [255, 255, 255]],\n",
       "\n",
       "        [[255, 255, 255],\n",
       "         [255, 255, 255],\n",
       "         [255, 255, 255],\n",
       "         ...,\n",
       "         [255, 255, 255],\n",
       "         [255, 255, 255],\n",
       "         [255, 255, 255]],\n",
       "\n",
       "        ...,\n",
       "\n",
       "        [[255, 255, 255],\n",
       "         [255, 255, 255],\n",
       "         [255, 255, 255],\n",
       "         ...,\n",
       "         [255, 255, 255],\n",
       "         [255, 255, 255],\n",
       "         [255, 255, 255]],\n",
       "\n",
       "        [[255, 255, 255],\n",
       "         [255, 255, 255],\n",
       "         [255, 255, 255],\n",
       "         ...,\n",
       "         [255, 255, 255],\n",
       "         [255, 255, 255],\n",
       "         [255, 255, 255]],\n",
       "\n",
       "        [[255, 255, 255],\n",
       "         [255, 255, 255],\n",
       "         [255, 255, 255],\n",
       "         ...,\n",
       "         [255, 255, 255],\n",
       "         [255, 255, 255],\n",
       "         [255, 255, 255]]],\n",
       "\n",
       "\n",
       "       [[[255, 255, 255],\n",
       "         [255, 255, 255],\n",
       "         [255, 255, 255],\n",
       "         ...,\n",
       "         [255, 255, 255],\n",
       "         [255, 255, 255],\n",
       "         [255, 255, 255]],\n",
       "\n",
       "        [[255, 255, 255],\n",
       "         [255, 255, 255],\n",
       "         [255, 255, 255],\n",
       "         ...,\n",
       "         [255, 255, 255],\n",
       "         [255, 255, 255],\n",
       "         [255, 255, 255]],\n",
       "\n",
       "        [[255, 255, 255],\n",
       "         [255, 255, 255],\n",
       "         [255, 255, 255],\n",
       "         ...,\n",
       "         [255, 255, 255],\n",
       "         [255, 255, 255],\n",
       "         [255, 255, 255]],\n",
       "\n",
       "        ...,\n",
       "\n",
       "        [[255, 255, 255],\n",
       "         [255, 255, 255],\n",
       "         [255, 255, 255],\n",
       "         ...,\n",
       "         [255, 255, 255],\n",
       "         [255, 255, 255],\n",
       "         [255, 255, 255]],\n",
       "\n",
       "        [[255, 255, 255],\n",
       "         [255, 255, 255],\n",
       "         [255, 255, 255],\n",
       "         ...,\n",
       "         [255, 255, 255],\n",
       "         [255, 255, 255],\n",
       "         [255, 255, 255]],\n",
       "\n",
       "        [[255, 255, 255],\n",
       "         [255, 255, 255],\n",
       "         [255, 255, 255],\n",
       "         ...,\n",
       "         [255, 255, 255],\n",
       "         [255, 255, 255],\n",
       "         [255, 255, 255]]],\n",
       "\n",
       "\n",
       "       ...,\n",
       "\n",
       "\n",
       "       [[[255, 255, 255],\n",
       "         [255, 255, 255],\n",
       "         [255, 255, 255],\n",
       "         ...,\n",
       "         [255, 255, 255],\n",
       "         [255, 255, 255],\n",
       "         [255, 255, 255]],\n",
       "\n",
       "        [[255, 255, 255],\n",
       "         [255, 255, 255],\n",
       "         [255, 255, 255],\n",
       "         ...,\n",
       "         [255, 255, 255],\n",
       "         [255, 255, 255],\n",
       "         [255, 255, 255]],\n",
       "\n",
       "        [[255, 255, 255],\n",
       "         [255, 255, 255],\n",
       "         [255, 255, 255],\n",
       "         ...,\n",
       "         [255, 255, 255],\n",
       "         [255, 255, 255],\n",
       "         [255, 255, 255]],\n",
       "\n",
       "        ...,\n",
       "\n",
       "        [[159, 159, 159],\n",
       "         [159, 159, 159],\n",
       "         [158, 158, 158],\n",
       "         ...,\n",
       "         [167, 167, 167],\n",
       "         [166, 166, 166],\n",
       "         [167, 167, 167]],\n",
       "\n",
       "        [[183, 183, 183],\n",
       "         [182, 182, 182],\n",
       "         [184, 184, 184],\n",
       "         ...,\n",
       "         [175, 175, 175],\n",
       "         [175, 175, 175],\n",
       "         [177, 177, 177]],\n",
       "\n",
       "        [[213, 213, 213],\n",
       "         [215, 215, 215],\n",
       "         [217, 217, 217],\n",
       "         ...,\n",
       "         [190, 190, 190],\n",
       "         [191, 191, 191],\n",
       "         [193, 193, 193]]],\n",
       "\n",
       "\n",
       "       [[[ 51,  51,  51],\n",
       "         [ 56,  56,  56],\n",
       "         [ 53,  53,  53],\n",
       "         ...,\n",
       "         [ 69,  69,  69],\n",
       "         [ 70,  70,  70],\n",
       "         [ 71,  71,  71]],\n",
       "\n",
       "        [[ 56,  56,  56],\n",
       "         [ 49,  49,  49],\n",
       "         [ 53,  53,  53],\n",
       "         ...,\n",
       "         [ 70,  70,  70],\n",
       "         [ 74,  74,  74],\n",
       "         [ 70,  70,  70]],\n",
       "\n",
       "        [[ 55,  55,  55],\n",
       "         [ 54,  54,  54],\n",
       "         [ 56,  56,  56],\n",
       "         ...,\n",
       "         [ 70,  70,  70],\n",
       "         [ 65,  65,  65],\n",
       "         [ 69,  69,  69]],\n",
       "\n",
       "        ...,\n",
       "\n",
       "        [[ 56,  56,  56],\n",
       "         [ 56,  56,  56],\n",
       "         [ 57,  57,  57],\n",
       "         ...,\n",
       "         [ 87,  87,  87],\n",
       "         [ 93,  93,  93],\n",
       "         [ 92,  92,  92]],\n",
       "\n",
       "        [[ 62,  62,  62],\n",
       "         [ 62,  62,  62],\n",
       "         [ 63,  63,  63],\n",
       "         ...,\n",
       "         [ 41,  41,  41],\n",
       "         [ 41,  41,  41],\n",
       "         [ 41,  41,  41]],\n",
       "\n",
       "        [[ 89,  89,  89],\n",
       "         [ 90,  90,  90],\n",
       "         [ 89,  89,  89],\n",
       "         ...,\n",
       "         [124, 124, 124],\n",
       "         [123, 123, 123],\n",
       "         [124, 124, 124]]],\n",
       "\n",
       "\n",
       "       [[[227, 227, 227],\n",
       "         [227, 227, 227],\n",
       "         [227, 227, 227],\n",
       "         ...,\n",
       "         [227, 227, 227],\n",
       "         [227, 227, 227],\n",
       "         [227, 227, 227]],\n",
       "\n",
       "        [[227, 227, 227],\n",
       "         [227, 227, 227],\n",
       "         [227, 227, 227],\n",
       "         ...,\n",
       "         [227, 227, 227],\n",
       "         [227, 227, 227],\n",
       "         [227, 227, 227]],\n",
       "\n",
       "        [[227, 227, 227],\n",
       "         [227, 227, 227],\n",
       "         [227, 227, 227],\n",
       "         ...,\n",
       "         [227, 227, 227],\n",
       "         [227, 227, 227],\n",
       "         [227, 227, 227]],\n",
       "\n",
       "        ...,\n",
       "\n",
       "        [[175, 175, 175],\n",
       "         [119, 119, 119],\n",
       "         [115, 115, 115],\n",
       "         ...,\n",
       "         [227, 227, 227],\n",
       "         [227, 227, 227],\n",
       "         [227, 227, 227]],\n",
       "\n",
       "        [[170, 170, 170],\n",
       "         [123, 123, 123],\n",
       "         [121, 121, 121],\n",
       "         ...,\n",
       "         [227, 227, 227],\n",
       "         [227, 227, 227],\n",
       "         [227, 227, 227]],\n",
       "\n",
       "        [[174, 174, 174],\n",
       "         [121, 121, 121],\n",
       "         [117, 117, 117],\n",
       "         ...,\n",
       "         [227, 227, 227],\n",
       "         [227, 227, 227],\n",
       "         [227, 227, 227]]]], dtype=uint8)"
      ]
     },
     "execution_count": 80,
     "metadata": {},
     "output_type": "execute_result"
    }
   ],
   "source": [
    "all_matrices = np.array(all_images)\n",
    "all_matrices"
   ]
  },
  {
   "cell_type": "code",
   "execution_count": 81,
   "id": "2c192b90",
   "metadata": {
    "executionInfo": {
     "elapsed": 6,
     "status": "ok",
     "timestamp": 1640007543323,
     "user": {
      "displayName": "FIRAT YASAR",
      "photoUrl": "https://lh3.googleusercontent.com/a-/AOh14GhVcZnP-Z8h1PArfwtCXlEBwsA0em5WXleUX9MY=s64",
      "userId": "11059238169428736777"
     },
     "user_tz": -60
    },
    "id": "2c192b90"
   },
   "outputs": [],
   "source": [
    "#Encode labels from text to integers.\n",
    "from sklearn import preprocessing\n",
    "le = preprocessing.LabelEncoder()\n",
    "le.fit(data['categorie_1'])\n",
    "labels_encoded = le.transform(data['categorie_1'])"
   ]
  },
  {
   "cell_type": "code",
   "execution_count": 82,
   "id": "710e5415",
   "metadata": {
    "executionInfo": {
     "elapsed": 7,
     "status": "ok",
     "timestamp": 1640007543324,
     "user": {
      "displayName": "FIRAT YASAR",
      "photoUrl": "https://lh3.googleusercontent.com/a-/AOh14GhVcZnP-Z8h1PArfwtCXlEBwsA0em5WXleUX9MY=s64",
      "userId": "11059238169428736777"
     },
     "user_tz": -60
    },
    "id": "710e5415"
   },
   "outputs": [],
   "source": [
    "from sklearn.model_selection import train_test_split\n",
    "\n",
    "X = all_matrices\n",
    "y = labels_encoded\n",
    "x_train, x_test, y_train, y_test = train_test_split(X, y, test_size=0.2, random_state=42)"
   ]
  },
  {
   "cell_type": "code",
   "execution_count": 83,
   "id": "a6e236ca",
   "metadata": {
    "executionInfo": {
     "elapsed": 1419,
     "status": "ok",
     "timestamp": 1640007544737,
     "user": {
      "displayName": "FIRAT YASAR",
      "photoUrl": "https://lh3.googleusercontent.com/a-/AOh14GhVcZnP-Z8h1PArfwtCXlEBwsA0em5WXleUX9MY=s64",
      "userId": "11059238169428736777"
     },
     "user_tz": -60
    },
    "id": "a6e236ca"
   },
   "outputs": [],
   "source": [
    "# Normalize pixel values to between 0 and 1\n",
    "x_train, x_test = x_train / 255.0, x_test / 255.0"
   ]
  },
  {
   "cell_type": "code",
   "execution_count": 84,
   "id": "398dbf1a",
   "metadata": {
    "executionInfo": {
     "elapsed": 8,
     "status": "ok",
     "timestamp": 1640007544738,
     "user": {
      "displayName": "FIRAT YASAR",
      "photoUrl": "https://lh3.googleusercontent.com/a-/AOh14GhVcZnP-Z8h1PArfwtCXlEBwsA0em5WXleUX9MY=s64",
      "userId": "11059238169428736777"
     },
     "user_tz": -60
    },
    "id": "398dbf1a"
   },
   "outputs": [],
   "source": [
    "#One hot encode y values for neural network. \n",
    "from tensorflow.keras.utils import to_categorical\n",
    "\n",
    "y_train_one_hot = to_categorical(y_train)\n",
    "y_test_one_hot = to_categorical(y_test)"
   ]
  },
  {
   "cell_type": "markdown",
   "id": "f7b396d3",
   "metadata": {
    "id": "f7b396d3"
   },
   "source": [
    "## CNN"
   ]
  },
  {
   "cell_type": "code",
   "execution_count": 85,
   "id": "8236e606",
   "metadata": {
    "executionInfo": {
     "elapsed": 7,
     "status": "ok",
     "timestamp": 1640007544738,
     "user": {
      "displayName": "FIRAT YASAR",
      "photoUrl": "https://lh3.googleusercontent.com/a-/AOh14GhVcZnP-Z8h1PArfwtCXlEBwsA0em5WXleUX9MY=s64",
      "userId": "11059238169428736777"
     },
     "user_tz": -60
    },
    "id": "8236e606"
   },
   "outputs": [],
   "source": [
    "activation = 'sigmoid'\n",
    "# activation = 'relu'\n",
    "\n",
    "feature_extractor = Sequential()\n",
    "feature_extractor.add(Conv2D(32, 3, activation = activation, padding = 'same', input_shape = (SIZE, SIZE, 3)))\n",
    "feature_extractor.add(BatchNormalization())\n",
    "\n",
    "feature_extractor.add(Conv2D(32, 3, activation = activation, padding = 'same', kernel_initializer = 'he_uniform'))\n",
    "feature_extractor.add(BatchNormalization())\n",
    "feature_extractor.add(MaxPooling2D())\n",
    "\n",
    "feature_extractor.add(Conv2D(64, 3, activation = activation, padding = 'same', kernel_initializer = 'he_uniform'))\n",
    "feature_extractor.add(BatchNormalization())\n",
    "\n",
    "feature_extractor.add(Conv2D(64, 3, activation = activation, padding = 'same', kernel_initializer = 'he_uniform'))\n",
    "feature_extractor.add(BatchNormalization())\n",
    "feature_extractor.add(MaxPooling2D())\n",
    "\n",
    "feature_extractor.add(Flatten())\n",
    "\n",
    "#Add layers for deep learning prediction\n",
    "x = feature_extractor.output  \n",
    "x = Dense(128, activation = activation, kernel_initializer = 'he_uniform')(x)\n",
    "prediction_layer = Dense(7, activation = 'softmax')(x)"
   ]
  },
  {
   "cell_type": "code",
   "execution_count": 86,
   "id": "60d045a4",
   "metadata": {
    "colab": {
     "base_uri": "https://localhost:8080/"
    },
    "executionInfo": {
     "elapsed": 8,
     "status": "ok",
     "timestamp": 1640007544739,
     "user": {
      "displayName": "FIRAT YASAR",
      "photoUrl": "https://lh3.googleusercontent.com/a-/AOh14GhVcZnP-Z8h1PArfwtCXlEBwsA0em5WXleUX9MY=s64",
      "userId": "11059238169428736777"
     },
     "user_tz": -60
    },
    "id": "60d045a4",
    "outputId": "31395a81-ffa0-4d43-cbfd-cbd516d27a58"
   },
   "outputs": [
    {
     "name": "stdout",
     "output_type": "stream",
     "text": [
      "Model: \"model_2\"\n",
      "_________________________________________________________________\n",
      " Layer (type)                Output Shape              Param #   \n",
      "=================================================================\n",
      " conv2d_8_input (InputLayer)  [(None, 224, 224, 3)]    0         \n",
      "                                                                 \n",
      " conv2d_8 (Conv2D)           (None, 224, 224, 32)      896       \n",
      "                                                                 \n",
      " batch_normalization_8 (Batc  (None, 224, 224, 32)     128       \n",
      " hNormalization)                                                 \n",
      "                                                                 \n",
      " conv2d_9 (Conv2D)           (None, 224, 224, 32)      9248      \n",
      "                                                                 \n",
      " batch_normalization_9 (Batc  (None, 224, 224, 32)     128       \n",
      " hNormalization)                                                 \n",
      "                                                                 \n",
      " max_pooling2d_4 (MaxPooling  (None, 112, 112, 32)     0         \n",
      " 2D)                                                             \n",
      "                                                                 \n",
      " conv2d_10 (Conv2D)          (None, 112, 112, 64)      18496     \n",
      "                                                                 \n",
      " batch_normalization_10 (Bat  (None, 112, 112, 64)     256       \n",
      " chNormalization)                                                \n",
      "                                                                 \n",
      " conv2d_11 (Conv2D)          (None, 112, 112, 64)      36928     \n",
      "                                                                 \n",
      " batch_normalization_11 (Bat  (None, 112, 112, 64)     256       \n",
      " chNormalization)                                                \n",
      "                                                                 \n",
      " max_pooling2d_5 (MaxPooling  (None, 56, 56, 64)       0         \n",
      " 2D)                                                             \n",
      "                                                                 \n",
      " flatten_2 (Flatten)         (None, 200704)            0         \n",
      "                                                                 \n",
      " dense_4 (Dense)             (None, 128)               25690240  \n",
      "                                                                 \n",
      " dense_5 (Dense)             (None, 7)                 903       \n",
      "                                                                 \n",
      "=================================================================\n",
      "Total params: 25,757,479\n",
      "Trainable params: 25,757,095\n",
      "Non-trainable params: 384\n",
      "_________________________________________________________________\n",
      "None\n"
     ]
    }
   ],
   "source": [
    "# Make a new model combining both feature extractor and x\n",
    "cnn_model = Model(inputs=feature_extractor.input, outputs=prediction_layer)\n",
    "cnn_model.compile(optimizer='rmsprop',loss = 'categorical_crossentropy', metrics = ['accuracy'])\n",
    "print(cnn_model.summary()) "
   ]
  },
  {
   "cell_type": "code",
   "execution_count": 87,
   "id": "c4a59bf1",
   "metadata": {
    "colab": {
     "base_uri": "https://localhost:8080/",
     "height": 1000
    },
    "executionInfo": {
     "elapsed": 281142,
     "status": "ok",
     "timestamp": 1640007825874,
     "user": {
      "displayName": "FIRAT YASAR",
      "photoUrl": "https://lh3.googleusercontent.com/a-/AOh14GhVcZnP-Z8h1PArfwtCXlEBwsA0em5WXleUX9MY=s64",
      "userId": "11059238169428736777"
     },
     "user_tz": -60
    },
    "id": "c4a59bf1",
    "outputId": "442b247b-66db-4c01-f595-de213b01e9ce",
    "scrolled": false
   },
   "outputs": [
    {
     "name": "stdout",
     "output_type": "stream",
     "text": [
      "Epoch 1/35\n",
      "27/27 [==============================] - 12s 354ms/step - loss: 2.1865 - accuracy: 0.2536 - val_loss: 2.2363 - val_accuracy: 0.1286\n",
      "Epoch 2/35\n",
      "27/27 [==============================] - 8s 292ms/step - loss: 1.7742 - accuracy: 0.3405 - val_loss: 2.4354 - val_accuracy: 0.1667\n",
      "Epoch 3/35\n",
      "27/27 [==============================] - 8s 292ms/step - loss: 1.6483 - accuracy: 0.3976 - val_loss: 2.5854 - val_accuracy: 0.1667\n",
      "Epoch 4/35\n",
      "27/27 [==============================] - 8s 293ms/step - loss: 1.5812 - accuracy: 0.4286 - val_loss: 2.1401 - val_accuracy: 0.1667\n",
      "Epoch 5/35\n",
      "27/27 [==============================] - 8s 293ms/step - loss: 1.5174 - accuracy: 0.4393 - val_loss: 2.3770 - val_accuracy: 0.1667\n",
      "Epoch 6/35\n",
      "27/27 [==============================] - 8s 293ms/step - loss: 1.4629 - accuracy: 0.4929 - val_loss: 2.4980 - val_accuracy: 0.1667\n",
      "Epoch 7/35\n",
      "27/27 [==============================] - 8s 292ms/step - loss: 1.4739 - accuracy: 0.4702 - val_loss: 2.3598 - val_accuracy: 0.1667\n",
      "Epoch 8/35\n",
      "27/27 [==============================] - 8s 291ms/step - loss: 1.3402 - accuracy: 0.5155 - val_loss: 2.6154 - val_accuracy: 0.1714\n",
      "Epoch 9/35\n",
      "27/27 [==============================] - 8s 293ms/step - loss: 1.4420 - accuracy: 0.4583 - val_loss: 2.4454 - val_accuracy: 0.1667\n",
      "Epoch 10/35\n",
      "27/27 [==============================] - 8s 291ms/step - loss: 1.4061 - accuracy: 0.5024 - val_loss: 2.4806 - val_accuracy: 0.1714\n",
      "Epoch 11/35\n",
      "27/27 [==============================] - 8s 292ms/step - loss: 1.3198 - accuracy: 0.5131 - val_loss: 2.4045 - val_accuracy: 0.1762\n",
      "Epoch 12/35\n",
      "27/27 [==============================] - 8s 292ms/step - loss: 1.4889 - accuracy: 0.4762 - val_loss: 1.7852 - val_accuracy: 0.2429\n",
      "Epoch 13/35\n",
      "27/27 [==============================] - 8s 292ms/step - loss: 1.3175 - accuracy: 0.5310 - val_loss: 1.7611 - val_accuracy: 0.3095\n",
      "Epoch 14/35\n",
      "27/27 [==============================] - 8s 291ms/step - loss: 1.3134 - accuracy: 0.5274 - val_loss: 1.5449 - val_accuracy: 0.4429\n",
      "Epoch 15/35\n",
      "27/27 [==============================] - 8s 292ms/step - loss: 1.2692 - accuracy: 0.5512 - val_loss: 1.5432 - val_accuracy: 0.4238\n",
      "Epoch 16/35\n",
      "27/27 [==============================] - 8s 292ms/step - loss: 1.2722 - accuracy: 0.5631 - val_loss: 1.7918 - val_accuracy: 0.3000\n",
      "Epoch 17/35\n",
      "27/27 [==============================] - 8s 292ms/step - loss: 1.2234 - accuracy: 0.5762 - val_loss: 1.5880 - val_accuracy: 0.4286\n",
      "Epoch 18/35\n",
      "27/27 [==============================] - 8s 292ms/step - loss: 1.2019 - accuracy: 0.5988 - val_loss: 2.0171 - val_accuracy: 0.2238\n",
      "Epoch 19/35\n",
      "27/27 [==============================] - 8s 300ms/step - loss: 1.1880 - accuracy: 0.5774 - val_loss: 1.4734 - val_accuracy: 0.4619\n",
      "Epoch 20/35\n",
      "27/27 [==============================] - 8s 290ms/step - loss: 1.2103 - accuracy: 0.5857 - val_loss: 1.8102 - val_accuracy: 0.3619\n",
      "Epoch 21/35\n",
      "27/27 [==============================] - 8s 289ms/step - loss: 1.1665 - accuracy: 0.6036 - val_loss: 1.6061 - val_accuracy: 0.4571\n",
      "Epoch 22/35\n",
      "27/27 [==============================] - 8s 289ms/step - loss: 1.1295 - accuracy: 0.5988 - val_loss: 1.4375 - val_accuracy: 0.5095\n",
      "Epoch 23/35\n",
      "27/27 [==============================] - 8s 291ms/step - loss: 1.1496 - accuracy: 0.6190 - val_loss: 1.8201 - val_accuracy: 0.3190\n",
      "Epoch 24/35\n",
      "27/27 [==============================] - 8s 290ms/step - loss: 1.0933 - accuracy: 0.6190 - val_loss: 2.5813 - val_accuracy: 0.2048\n",
      "Epoch 25/35\n",
      "27/27 [==============================] - 8s 291ms/step - loss: 1.1107 - accuracy: 0.6202 - val_loss: 1.6304 - val_accuracy: 0.4048\n",
      "Epoch 26/35\n",
      "27/27 [==============================] - 8s 290ms/step - loss: 1.1186 - accuracy: 0.6143 - val_loss: 1.4029 - val_accuracy: 0.4714\n",
      "Epoch 27/35\n",
      "27/27 [==============================] - 8s 291ms/step - loss: 1.1059 - accuracy: 0.6417 - val_loss: 1.3701 - val_accuracy: 0.4857\n",
      "Epoch 28/35\n",
      "27/27 [==============================] - 8s 290ms/step - loss: 1.0702 - accuracy: 0.6345 - val_loss: 2.4577 - val_accuracy: 0.2143\n",
      "Epoch 29/35\n",
      "27/27 [==============================] - 8s 292ms/step - loss: 1.0706 - accuracy: 0.6333 - val_loss: 1.8676 - val_accuracy: 0.4000\n",
      "Epoch 30/35\n",
      "27/27 [==============================] - 8s 290ms/step - loss: 1.0783 - accuracy: 0.6274 - val_loss: 2.1824 - val_accuracy: 0.2000\n",
      "Epoch 31/35\n",
      "27/27 [==============================] - 8s 291ms/step - loss: 1.0320 - accuracy: 0.6536 - val_loss: 1.3421 - val_accuracy: 0.5190\n",
      "Epoch 32/35\n",
      "27/27 [==============================] - 8s 290ms/step - loss: 0.9887 - accuracy: 0.6679 - val_loss: 1.4625 - val_accuracy: 0.4524\n",
      "Epoch 33/35\n",
      "27/27 [==============================] - 8s 291ms/step - loss: 1.0258 - accuracy: 0.6524 - val_loss: 1.3104 - val_accuracy: 0.5429\n",
      "Epoch 34/35\n",
      "27/27 [==============================] - 8s 291ms/step - loss: 0.9607 - accuracy: 0.6798 - val_loss: 1.2932 - val_accuracy: 0.5571\n",
      "Epoch 35/35\n",
      "27/27 [==============================] - 8s 291ms/step - loss: 0.9898 - accuracy: 0.6750 - val_loss: 1.4298 - val_accuracy: 0.4952\n"
     ]
    },
    {
     "data": {
      "image/png": "[encoded data removed]",
      "text/plain": [
       "<Figure size 432x288 with 1 Axes>"
      ]
     },
     "metadata": {
      "needs_background": "light"
     },
     "output_type": "display_data"
    }
   ],
   "source": [
    "#Train the CNN model\n",
    "history = cnn_model.fit(x_train, y_train_one_hot, epochs=35, validation_data = (x_test, y_test_one_hot))\n",
    "\n",
    "#plot the training and validation accuracy and loss at each epoch\n",
    "loss = history.history['loss']\n",
    "val_loss = history.history['val_loss']\n",
    "epochs = range(1, len(loss) + 1)\n",
    "plt.plot(epochs, loss, 'y', label='Training loss')\n",
    "plt.plot(epochs, val_loss, 'r', label='Validation loss')\n",
    "plt.title('Training and validation loss')\n",
    "plt.xlabel('Epochs')\n",
    "plt.ylabel('Loss')\n",
    "plt.legend()\n",
    "plt.show()"
   ]
  },
  {
   "cell_type": "code",
   "execution_count": 88,
   "id": "78e9452a",
   "metadata": {
    "colab": {
     "base_uri": "https://localhost:8080/",
     "height": 295
    },
    "executionInfo": {
     "elapsed": 420,
     "status": "ok",
     "timestamp": 1640007826281,
     "user": {
      "displayName": "FIRAT YASAR",
      "photoUrl": "https://lh3.googleusercontent.com/a-/AOh14GhVcZnP-Z8h1PArfwtCXlEBwsA0em5WXleUX9MY=s64",
      "userId": "11059238169428736777"
     },
     "user_tz": -60
    },
    "id": "78e9452a",
    "outputId": "43d2d05b-d71d-47f3-96f6-3ed2161667c4",
    "scrolled": true
   },
   "outputs": [
    {
     "data": {
      "image/png": "[encoded data removed]",
      "text/plain": [
       "<Figure size 432x288 with 1 Axes>"
      ]
     },
     "metadata": {
      "needs_background": "light"
     },
     "output_type": "display_data"
    }
   ],
   "source": [
    "acc = history.history['accuracy']\n",
    "val_acc = history.history['val_accuracy']\n",
    "plt.plot(epochs, acc, 'y', label='Training acc')\n",
    "plt.plot(epochs, val_acc, 'r', label='Validation acc')\n",
    "plt.title('Training and validation accuracy')\n",
    "plt.xlabel('Epochs')\n",
    "plt.ylabel('Accuracy')\n",
    "plt.legend()\n",
    "plt.show()"
   ]
  },
  {
   "cell_type": "code",
   "execution_count": 89,
   "id": "94886893",
   "metadata": {
    "executionInfo": {
     "elapsed": 4,
     "status": "ok",
     "timestamp": 1640007826282,
     "user": {
      "displayName": "FIRAT YASAR",
      "photoUrl": "https://lh3.googleusercontent.com/a-/AOh14GhVcZnP-Z8h1PArfwtCXlEBwsA0em5WXleUX9MY=s64",
      "userId": "11059238169428736777"
     },
     "user_tz": -60
    },
    "id": "94886893"
   },
   "outputs": [],
   "source": [
    "test_labels = le.inverse_transform(y_test)"
   ]
  },
  {
   "cell_type": "code",
   "execution_count": 90,
   "id": "fba71872",
   "metadata": {
    "executionInfo": {
     "elapsed": 732,
     "status": "ok",
     "timestamp": 1640007827011,
     "user": {
      "displayName": "FIRAT YASAR",
      "photoUrl": "https://lh3.googleusercontent.com/a-/AOh14GhVcZnP-Z8h1PArfwtCXlEBwsA0em5WXleUX9MY=s64",
      "userId": "11059238169428736777"
     },
     "user_tz": -60
    },
    "id": "fba71872"
   },
   "outputs": [],
   "source": [
    "prediction_NN = cnn_model.predict(x_test)\n",
    "prediction_NN = np.argmax(prediction_NN, axis=-1)\n",
    "prediction_NN = le.inverse_transform(prediction_NN)"
   ]
  },
  {
   "cell_type": "code",
   "execution_count": 91,
   "id": "g7yTOzOh4RIJ",
   "metadata": {
    "colab": {
     "base_uri": "https://localhost:8080/",
     "height": 421
    },
    "executionInfo": {
     "elapsed": 516,
     "status": "ok",
     "timestamp": 1640007827518,
     "user": {
      "displayName": "FIRAT YASAR",
      "photoUrl": "https://lh3.googleusercontent.com/a-/AOh14GhVcZnP-Z8h1PArfwtCXlEBwsA0em5WXleUX9MY=s64",
      "userId": "11059238169428736777"
     },
     "user_tz": -60
    },
    "id": "g7yTOzOh4RIJ",
    "outputId": "2e43dfd1-c384-4121-c184-ec612c6b731a"
   },
   "outputs": [
    {
     "name": "stdout",
     "output_type": "stream",
     "text": [
      "L'echantillon de test contient : 210 articles.\n",
      "[[ 8  2  8  4  4  1  0]\n",
      " [ 1 10  4  2  1  1  2]\n",
      " [ 2  2 29  1  1  2  1]\n",
      " [ 4  3  2  8  7  4  2]\n",
      " [ 9  5  3  3 13  0  2]\n",
      " [ 1  1  9  2  0 12  1]\n",
      " [ 0  2  5  2  0  0 24]]\n"
     ]
    },
    {
     "data": {
      "text/plain": [
       "<matplotlib.axes._subplots.AxesSubplot at 0x7f27d22867d0>"
      ]
     },
     "execution_count": 91,
     "metadata": {},
     "output_type": "execute_result"
    },
    {
     "data": {
      "image/png": "[encoded data removed]",
      "text/plain": [
       "<Figure size 432x288 with 2 Axes>"
      ]
     },
     "metadata": {
      "needs_background": "light"
     },
     "output_type": "display_data"
    }
   ],
   "source": [
    "#Confusion Matrix - verify accuracy of each class\n",
    "from sklearn.metrics import confusion_matrix\n",
    "cm = confusion_matrix(test_labels, prediction_NN)\n",
    "print(\"L'echantillon de test contient :\", x_test.shape[0], \"articles.\")\n",
    "print(cm)\n",
    "sns.heatmap(cm, annot=True)"
   ]
  },
  {
   "cell_type": "code",
   "execution_count": 92,
   "id": "c288f4fd",
   "metadata": {
    "colab": {
     "base_uri": "https://localhost:8080/",
     "height": 304
    },
    "executionInfo": {
     "elapsed": 713,
     "status": "ok",
     "timestamp": 1640007828227,
     "user": {
      "displayName": "FIRAT YASAR",
      "photoUrl": "https://lh3.googleusercontent.com/a-/AOh14GhVcZnP-Z8h1PArfwtCXlEBwsA0em5WXleUX9MY=s64",
      "userId": "11059238169428736777"
     },
     "user_tz": -60
    },
    "id": "c288f4fd",
    "outputId": "f63b5a36-9417-4123-8cca-50a96d450f2c",
    "scrolled": true
   },
   "outputs": [
    {
     "name": "stdout",
     "output_type": "stream",
     "text": [
      "The prediction for this image is:  ['Home Decor']\n",
      "The actual label for this image is:  Home Furnishing\n"
     ]
    },
    {
     "data": {
      "image/png": "[encoded data removed]",
      "text/plain": [
       "<Figure size 432x288 with 1 Axes>"
      ]
     },
     "metadata": {
      "needs_background": "light"
     },
     "output_type": "display_data"
    }
   ],
   "source": [
    "#Check results on a few select images\n",
    "\n",
    "n=9  #Select the index of image to be loaded for testing\n",
    "img = x_test[n]\n",
    "plt.imshow(img)\n",
    "input_img = np.expand_dims(img, axis=0) #Expand dims so the input is (num images, x, y, c)\n",
    "prediction = np.argmax(cnn_model.predict(input_img))  #argmax to convert categorical back to original\n",
    "prediction = le.inverse_transform([prediction])  #Reverse the label encoder to original name\n",
    "print(\"The prediction for this image is: \", prediction)\n",
    "print(\"The actual label for this image is: \", test_labels[n])"
   ]
  },
  {
   "cell_type": "code",
   "execution_count": 93,
   "id": "14ce2590",
   "metadata": {
    "colab": {
     "base_uri": "https://localhost:8080/"
    },
    "executionInfo": {
     "elapsed": 51,
     "status": "ok",
     "timestamp": 1640007828230,
     "user": {
      "displayName": "FIRAT YASAR",
      "photoUrl": "https://lh3.googleusercontent.com/a-/AOh14GhVcZnP-Z8h1PArfwtCXlEBwsA0em5WXleUX9MY=s64",
      "userId": "11059238169428736777"
     },
     "user_tz": -60
    },
    "id": "14ce2590",
    "outputId": "6939091f-7615-4e65-8be7-5de3405ed4c3"
   },
   "outputs": [
    {
     "name": "stdout",
     "output_type": "stream",
     "text": [
      "Accuracy =  0.49523809523809526\n"
     ]
    }
   ],
   "source": [
    "from sklearn import metrics\n",
    "print (\"Accuracy = \", metrics.accuracy_score(test_labels, prediction_NN))"
   ]
  },
  {
   "cell_type": "markdown",
   "id": "02c24d2c",
   "metadata": {
    "id": "02c24d2c"
   },
   "source": [
    "## Random Forest Classifier"
   ]
  },
  {
   "cell_type": "code",
   "execution_count": 94,
   "id": "8c9add0a",
   "metadata": {
    "executionInfo": {
     "elapsed": 4293,
     "status": "ok",
     "timestamp": 1640007832491,
     "user": {
      "displayName": "FIRAT YASAR",
      "photoUrl": "https://lh3.googleusercontent.com/a-/AOh14GhVcZnP-Z8h1PArfwtCXlEBwsA0em5WXleUX9MY=s64",
      "userId": "11059238169428736777"
     },
     "user_tz": -60
    },
    "id": "8c9add0a"
   },
   "outputs": [],
   "source": [
    "#Now, let us use features from convolutional network for RF\n",
    "X_for_RF = feature_extractor.predict(x_train) #This is out X input to RF\n",
    "\n",
    "#RANDOM FOREST\n",
    "from sklearn.ensemble import RandomForestClassifier\n",
    "RF_model = RandomForestClassifier(n_estimators = 50, random_state = 42)"
   ]
  },
  {
   "cell_type": "code",
   "execution_count": 95,
   "id": "aeed3375",
   "metadata": {
    "colab": {
     "base_uri": "https://localhost:8080/"
    },
    "executionInfo": {
     "elapsed": 10008,
     "status": "ok",
     "timestamp": 1640007842488,
     "user": {
      "displayName": "FIRAT YASAR",
      "photoUrl": "https://lh3.googleusercontent.com/a-/AOh14GhVcZnP-Z8h1PArfwtCXlEBwsA0em5WXleUX9MY=s64",
      "userId": "11059238169428736777"
     },
     "user_tz": -60
    },
    "id": "aeed3375",
    "outputId": "b3a487d9-2c34-4c2c-967c-d688dcb161e8"
   },
   "outputs": [
    {
     "data": {
      "text/plain": [
       "RandomForestClassifier(n_estimators=50, random_state=42)"
      ]
     },
     "execution_count": 95,
     "metadata": {},
     "output_type": "execute_result"
    }
   ],
   "source": [
    "# Train the model on training data\n",
    "RF_model.fit(X_for_RF, y_train) #For sklearn no one hot encoding"
   ]
  },
  {
   "cell_type": "code",
   "execution_count": 96,
   "id": "4e1bb398",
   "metadata": {
    "executionInfo": {
     "elapsed": 1385,
     "status": "ok",
     "timestamp": 1640007843863,
     "user": {
      "displayName": "FIRAT YASAR",
      "photoUrl": "https://lh3.googleusercontent.com/a-/AOh14GhVcZnP-Z8h1PArfwtCXlEBwsA0em5WXleUX9MY=s64",
      "userId": "11059238169428736777"
     },
     "user_tz": -60
    },
    "id": "4e1bb398"
   },
   "outputs": [],
   "source": [
    "#Send test data through same feature extractor process\n",
    "X_test_feature = feature_extractor.predict(x_test)\n",
    "#Now predict using the trained RF model. \n",
    "prediction_RF = RF_model.predict(X_test_feature)\n",
    "#Inverse le transform to get original label back. \n",
    "prediction_RF = le.inverse_transform(prediction_RF)"
   ]
  },
  {
   "cell_type": "code",
   "execution_count": 97,
   "id": "c5f873f5",
   "metadata": {
    "colab": {
     "base_uri": "https://localhost:8080/"
    },
    "executionInfo": {
     "elapsed": 18,
     "status": "ok",
     "timestamp": 1640007843865,
     "user": {
      "displayName": "FIRAT YASAR",
      "photoUrl": "https://lh3.googleusercontent.com/a-/AOh14GhVcZnP-Z8h1PArfwtCXlEBwsA0em5WXleUX9MY=s64",
      "userId": "11059238169428736777"
     },
     "user_tz": -60
    },
    "id": "c5f873f5",
    "outputId": "90b380e5-8435-4874-cfd3-5638bac3b159"
   },
   "outputs": [
    {
     "name": "stdout",
     "output_type": "stream",
     "text": [
      "Accuracy =  0.6\n"
     ]
    }
   ],
   "source": [
    "print (\"Accuracy = \", metrics.accuracy_score(test_labels, prediction_RF))"
   ]
  },
  {
   "cell_type": "code",
   "execution_count": 98,
   "id": "52926a67",
   "metadata": {
    "colab": {
     "base_uri": "https://localhost:8080/",
     "height": 282
    },
    "executionInfo": {
     "elapsed": 502,
     "status": "ok",
     "timestamp": 1640007844360,
     "user": {
      "displayName": "FIRAT YASAR",
      "photoUrl": "https://lh3.googleusercontent.com/a-/AOh14GhVcZnP-Z8h1PArfwtCXlEBwsA0em5WXleUX9MY=s64",
      "userId": "11059238169428736777"
     },
     "user_tz": -60
    },
    "id": "52926a67",
    "outputId": "7a22ebda-9ea9-4185-f92b-8ed7d01dc467"
   },
   "outputs": [
    {
     "data": {
      "text/plain": [
       "<matplotlib.axes._subplots.AxesSubplot at 0x7f2751e43a90>"
      ]
     },
     "execution_count": 98,
     "metadata": {},
     "output_type": "execute_result"
    },
    {
     "data": {
      "image/png": "[encoded data removed]",
      "text/plain": [
       "<Figure size 432x288 with 2 Axes>"
      ]
     },
     "metadata": {
      "needs_background": "light"
     },
     "output_type": "display_data"
    }
   ],
   "source": [
    "#Confusion Matrix - verify accuracy of each class\n",
    "cm = confusion_matrix(test_labels, prediction_RF)\n",
    "#print(cm)\n",
    "sns.heatmap(cm, annot=True)"
   ]
  },
  {
   "cell_type": "code",
   "execution_count": 99,
   "id": "a26f4d14",
   "metadata": {
    "colab": {
     "base_uri": "https://localhost:8080/",
     "height": 304
    },
    "executionInfo": {
     "elapsed": 927,
     "status": "ok",
     "timestamp": 1640007845282,
     "user": {
      "displayName": "FIRAT YASAR",
      "photoUrl": "https://lh3.googleusercontent.com/a-/AOh14GhVcZnP-Z8h1PArfwtCXlEBwsA0em5WXleUX9MY=s64",
      "userId": "11059238169428736777"
     },
     "user_tz": -60
    },
    "id": "a26f4d14",
    "outputId": "81cabead-9444-41ea-e2ff-384087fbfcc9"
   },
   "outputs": [
    {
     "name": "stdout",
     "output_type": "stream",
     "text": [
      "The prediction for this image is:  ['Watches']\n",
      "The actual label for this image is:  Watches\n"
     ]
    },
    {
     "data": {
      "image/png": "[encoded data removed]",
      "text/plain": [
       "<Figure size 432x288 with 1 Axes>"
      ]
     },
     "metadata": {
      "needs_background": "light"
     },
     "output_type": "display_data"
    }
   ],
   "source": [
    "#Check results on a few select images\n",
    "#n=5 #dog park. RF works better than CNN\n",
    "n=10 #Select the index of image to be loaded for testing\n",
    "img = x_test[n]\n",
    "plt.imshow(img)\n",
    "input_img = np.expand_dims(img, axis=0) #Expand dims so the input is (num images, x, y, c)\n",
    "input_img_features=feature_extractor.predict(input_img)\n",
    "prediction_RF = RF_model.predict(input_img_features)[0] \n",
    "prediction_RF = le.inverse_transform([prediction_RF])  #Reverse the label encoder to original name\n",
    "print(\"The prediction for this image is: \", prediction_RF)\n",
    "print(\"The actual label for this image is: \", test_labels[n])"
   ]
  },
  {
   "cell_type": "markdown",
   "id": "37207135",
   "metadata": {
    "id": "37207135"
   },
   "source": [
    "## KNN"
   ]
  },
  {
   "cell_type": "code",
   "execution_count": 100,
   "id": "709f04f8",
   "metadata": {
    "executionInfo": {
     "elapsed": 3899,
     "status": "ok",
     "timestamp": 1640007849177,
     "user": {
      "displayName": "FIRAT YASAR",
      "photoUrl": "https://lh3.googleusercontent.com/a-/AOh14GhVcZnP-Z8h1PArfwtCXlEBwsA0em5WXleUX9MY=s64",
      "userId": "11059238169428736777"
     },
     "user_tz": -60
    },
    "id": "709f04f8"
   },
   "outputs": [],
   "source": [
    "#Now, let us use features from convolutional network for KNN\n",
    "X_for_KNN = feature_extractor.predict(x_train) #This is out X input to RF\n",
    "\n",
    "#KNN\n",
    "from sklearn.neighbors import KNeighborsClassifier\n",
    "KNN_model = KNeighborsClassifier(n_neighbors=4, n_jobs=4)"
   ]
  },
  {
   "cell_type": "code",
   "execution_count": 101,
   "id": "34e2910a",
   "metadata": {
    "colab": {
     "base_uri": "https://localhost:8080/"
    },
    "executionInfo": {
     "elapsed": 17,
     "status": "ok",
     "timestamp": 1640007849177,
     "user": {
      "displayName": "FIRAT YASAR",
      "photoUrl": "https://lh3.googleusercontent.com/a-/AOh14GhVcZnP-Z8h1PArfwtCXlEBwsA0em5WXleUX9MY=s64",
      "userId": "11059238169428736777"
     },
     "user_tz": -60
    },
    "id": "34e2910a",
    "outputId": "9f48004e-bf83-4994-c682-a854ed3be00f"
   },
   "outputs": [
    {
     "data": {
      "text/plain": [
       "KNeighborsClassifier(n_jobs=4, n_neighbors=4)"
      ]
     },
     "execution_count": 101,
     "metadata": {},
     "output_type": "execute_result"
    }
   ],
   "source": [
    "# Train the model on training data\n",
    "KNN_model.fit(X_for_KNN, y_train) #For sklearn no one hot encoding"
   ]
  },
  {
   "cell_type": "code",
   "execution_count": 102,
   "id": "a2fe27f3",
   "metadata": {
    "executionInfo": {
     "elapsed": 16201,
     "status": "ok",
     "timestamp": 1640007865366,
     "user": {
      "displayName": "FIRAT YASAR",
      "photoUrl": "https://lh3.googleusercontent.com/a-/AOh14GhVcZnP-Z8h1PArfwtCXlEBwsA0em5WXleUX9MY=s64",
      "userId": "11059238169428736777"
     },
     "user_tz": -60
    },
    "id": "a2fe27f3"
   },
   "outputs": [],
   "source": [
    "#Send test data through same feature extractor process\n",
    "X_test_feature = feature_extractor.predict(x_test)\n",
    "#Now predict using the trained RF model. \n",
    "prediction_KNN = KNN_model.predict(X_test_feature)\n",
    "#Inverse le transform to get original label back. \n",
    "prediction_KNN = le.inverse_transform(prediction_KNN)"
   ]
  },
  {
   "cell_type": "code",
   "execution_count": 103,
   "id": "98945241",
   "metadata": {
    "colab": {
     "base_uri": "https://localhost:8080/"
    },
    "executionInfo": {
     "elapsed": 19,
     "status": "ok",
     "timestamp": 1640007865366,
     "user": {
      "displayName": "FIRAT YASAR",
      "photoUrl": "https://lh3.googleusercontent.com/a-/AOh14GhVcZnP-Z8h1PArfwtCXlEBwsA0em5WXleUX9MY=s64",
      "userId": "11059238169428736777"
     },
     "user_tz": -60
    },
    "id": "98945241",
    "outputId": "6f061bf6-8c18-4107-a19d-4f30aa388703"
   },
   "outputs": [
    {
     "name": "stdout",
     "output_type": "stream",
     "text": [
      "Accuracy =  0.5285714285714286\n"
     ]
    }
   ],
   "source": [
    "print (\"Accuracy = \", metrics.accuracy_score(test_labels, prediction_KNN))"
   ]
  },
  {
   "cell_type": "code",
   "execution_count": 104,
   "id": "6b070e68",
   "metadata": {
    "colab": {
     "base_uri": "https://localhost:8080/",
     "height": 282
    },
    "executionInfo": {
     "elapsed": 909,
     "status": "ok",
     "timestamp": 1640007866260,
     "user": {
      "displayName": "FIRAT YASAR",
      "photoUrl": "https://lh3.googleusercontent.com/a-/AOh14GhVcZnP-Z8h1PArfwtCXlEBwsA0em5WXleUX9MY=s64",
      "userId": "11059238169428736777"
     },
     "user_tz": -60
    },
    "id": "6b070e68",
    "outputId": "2c26d1e1-4030-4e47-f515-152cb2e58f83",
    "scrolled": false
   },
   "outputs": [
    {
     "data": {
      "text/plain": [
       "<matplotlib.axes._subplots.AxesSubplot at 0x7f2751c669d0>"
      ]
     },
     "execution_count": 104,
     "metadata": {},
     "output_type": "execute_result"
    },
    {
     "data": {
      "image/png": "[encoded data removed]",
      "text/plain": [
       "<Figure size 432x288 with 2 Axes>"
      ]
     },
     "metadata": {
      "needs_background": "light"
     },
     "output_type": "display_data"
    }
   ],
   "source": [
    "#Confusion Matrix - verify accuracy of each class\n",
    "cm = confusion_matrix(test_labels, prediction_KNN)\n",
    "#print(cm)\n",
    "sns.heatmap(cm, annot=True)"
   ]
  },
  {
   "cell_type": "markdown",
   "id": "4accf9fe",
   "metadata": {
    "id": "4accf9fe"
   },
   "source": [
    "## SVM"
   ]
  },
  {
   "cell_type": "code",
   "execution_count": 70,
   "id": "6242fbdc",
   "metadata": {
    "executionInfo": {
     "elapsed": 8531,
     "status": "ok",
     "timestamp": 1640007503768,
     "user": {
      "displayName": "FIRAT YASAR",
      "photoUrl": "https://lh3.googleusercontent.com/a-/AOh14GhVcZnP-Z8h1PArfwtCXlEBwsA0em5WXleUX9MY=s64",
      "userId": "11059238169428736777"
     },
     "user_tz": -60
    },
    "id": "6242fbdc"
   },
   "outputs": [],
   "source": [
    "#Now, let us use features from convolutional network for LSVM\n",
    "X_for_LSVM = feature_extractor.predict(x_train) #This is out X input to LSVM\n",
    "\n",
    "#LSVM\n",
    "from sklearn.svm import LinearSVC\n",
    "LSVM_model = LinearSVC(C=1, random_state=0, max_iter=10000)"
   ]
  },
  {
   "cell_type": "code",
   "execution_count": null,
   "id": "884f2c21",
   "metadata": {},
   "outputs": [],
   "source": [
    "# Train the model on training data\n",
    "LSVM_model.fit(X_for_LSVM, y_train) #For sklearn no one hot encoding"
   ]
  },
  {
   "cell_type": "code",
   "execution_count": null,
   "id": "e047d1cf",
   "metadata": {
    "executionInfo": {
     "elapsed": 6,
     "status": "aborted",
     "timestamp": 1640007506435,
     "user": {
      "displayName": "FIRAT YASAR",
      "photoUrl": "https://lh3.googleusercontent.com/a-/AOh14GhVcZnP-Z8h1PArfwtCXlEBwsA0em5WXleUX9MY=s64",
      "userId": "11059238169428736777"
     },
     "user_tz": -60
    },
    "id": "e047d1cf"
   },
   "outputs": [],
   "source": [
    "#Send test data through same feature extractor process\n",
    "X_test_feature = feature_extractor.predict(x_test)\n",
    "#Now predict using the trained RF model. \n",
    "prediction_LSVM = LSVM_model.predict(X_test_feature)\n",
    "#Inverse le transform to get original label back. \n",
    "prediction_LSVM = le.inverse_transform(prediction_LSVM)"
   ]
  },
  {
   "cell_type": "code",
   "execution_count": null,
   "id": "bf81fdca",
   "metadata": {
    "executionInfo": {
     "elapsed": 8,
     "status": "aborted",
     "timestamp": 1640007506437,
     "user": {
      "displayName": "FIRAT YASAR",
      "photoUrl": "https://lh3.googleusercontent.com/a-/AOh14GhVcZnP-Z8h1PArfwtCXlEBwsA0em5WXleUX9MY=s64",
      "userId": "11059238169428736777"
     },
     "user_tz": -60
    },
    "id": "bf81fdca"
   },
   "outputs": [],
   "source": [
    "#Print overall accuracy\n",
    "\n",
    "print (\"Accuracy = \", metrics.accuracy_score(test_labels, prediction_LSVM))"
   ]
  },
  {
   "cell_type": "code",
   "execution_count": null,
   "id": "77054dd7",
   "metadata": {
    "executionInfo": {
     "elapsed": 10,
     "status": "aborted",
     "timestamp": 1640007506439,
     "user": {
      "displayName": "FIRAT YASAR",
      "photoUrl": "https://lh3.googleusercontent.com/a-/AOh14GhVcZnP-Z8h1PArfwtCXlEBwsA0em5WXleUX9MY=s64",
      "userId": "11059238169428736777"
     },
     "user_tz": -60
    },
    "id": "77054dd7"
   },
   "outputs": [],
   "source": [
    "#Confusion Matrix - verify accuracy of each class\n",
    "cm = confusion_matrix(test_labels, prediction_LSVM)\n",
    "#print(cm)\n",
    "sns.heatmap(cm, annot=True)"
   ]
  }
 ],
 "metadata": {
  "accelerator": "GPU",
  "colab": {
   "collapsed_sections": [],
   "name": "P6_03_02_Computer_Vision_via_Deep_Learning_size_224.ipynb",
   "provenance": []
  },
  "kernelspec": {
   "display_name": "Python 3 (ipykernel)",
   "language": "python",
   "name": "python3"
  },
  "language_info": {
   "codemirror_mode": {
    "name": "ipython",
    "version": 3
   },
   "file_extension": ".py",
   "mimetype": "text/x-python",
   "name": "python",
   "nbconvert_exporter": "python",
   "pygments_lexer": "ipython3",
   "version": "3.9.7"
  }
 },
 "nbformat": 4,
 "nbformat_minor": 5
}
