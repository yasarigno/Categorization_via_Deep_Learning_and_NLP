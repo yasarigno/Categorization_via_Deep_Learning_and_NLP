{
 "cells": [
  {
   "cell_type": "markdown",
   "id": "rH9ZT6iavRQ_",
   "metadata": {
    "id": "rH9ZT6iavRQ_"
   },
   "source": [
    "<h2 style=\"color:darkred;font-size:25px\">Projet 6 : Classifiez automatiquement des biens de consommation</h2>\n",
    "\n",
    "<img src=\"support\\logo.png\" style=\"width: 350px;\"/>\n",
    "\n",
    "<h2 style=\"color:darkred;font-size:25px\">Notebook 3.1 : Computer Vision via Deep Learning (Image size = 128 x 128)</h2>\n",
    "\n",
    "---\n",
    "---\n",
    "---"
   ]
  },
  {
   "cell_type": "markdown",
   "id": "R3OAmCoJthJ2",
   "metadata": {
    "id": "R3OAmCoJthJ2"
   },
   "source": [
    "### Téléchargement du jeux de données"
   ]
  },
  {
   "cell_type": "code",
   "execution_count": 105,
   "id": "4995949b",
   "metadata": {
    "colab": {
     "base_uri": "https://localhost:8080/"
    },
    "executionInfo": {
     "elapsed": 514,
     "status": "ok",
     "timestamp": 1640008951536,
     "user": {
      "displayName": "FIRAT YASAR",
      "photoUrl": "https://lh3.googleusercontent.com/a-/AOh14GhVcZnP-Z8h1PArfwtCXlEBwsA0em5WXleUX9MY=s64",
      "userId": "11059238169428736777"
     },
     "user_tz": -60
    },
    "id": "4995949b",
    "outputId": "1c7184a9-0723-4afb-a523-2ba37afba4ec"
   },
   "outputs": [
    {
     "name": "stdout",
     "output_type": "stream",
     "text": [
      "Tensor Flow Version: 2.7.0\n",
      "Keras Version: 2.7.0\n",
      "\n",
      "Python 3.7.12 (default, Sep 10 2021, 00:21:48) \n",
      "[GCC 7.5.0]\n",
      "Pandas 1.1.5\n",
      "Scikit-Learn 1.0.1\n"
     ]
    }
   ],
   "source": [
    "# What version of Python do you have?\n",
    "import sys\n",
    "\n",
    "import tensorflow.keras\n",
    "from tensorflow.keras import layers\n",
    "\n",
    "import pandas as pd\n",
    "import sklearn as sk\n",
    "import tensorflow as tf\n",
    "\n",
    "print(f\"Tensor Flow Version: {tf.__version__}\")\n",
    "print(f\"Keras Version: {tensorflow.keras.__version__}\")\n",
    "print()\n",
    "print(f\"Python {sys.version}\")\n",
    "print(f\"Pandas {pd.__version__}\")\n",
    "print(f\"Scikit-Learn {sk.__version__}\")"
   ]
  },
  {
   "cell_type": "code",
   "execution_count": 106,
   "id": "532f484f",
   "metadata": {
    "executionInfo": {
     "elapsed": 6,
     "status": "ok",
     "timestamp": 1640008951845,
     "user": {
      "displayName": "FIRAT YASAR",
      "photoUrl": "https://lh3.googleusercontent.com/a-/AOh14GhVcZnP-Z8h1PArfwtCXlEBwsA0em5WXleUX9MY=s64",
      "userId": "11059238169428736777"
     },
     "user_tz": -60
    },
    "id": "532f484f"
   },
   "outputs": [],
   "source": [
    "import numpy as np \n",
    "import matplotlib.pyplot as plt\n",
    "import glob\n",
    "import cv2\n",
    "\n",
    "# from tensorflow.keras.layers import Input, Dense, Model, Sequential, Flatten, Conv2D, MaxPooling2D\n",
    "from tensorflow.keras.models import Model, Sequential\n",
    "from tensorflow.keras.layers import Dense, Flatten, Conv2D, MaxPooling2D\n",
    "\n",
    "from tensorflow.keras.layers import BatchNormalization\n",
    "import os\n",
    "import seaborn as sns"
   ]
  },
  {
   "cell_type": "code",
   "execution_count": 107,
   "id": "b561f185",
   "metadata": {
    "executionInfo": {
     "elapsed": 6,
     "status": "ok",
     "timestamp": 1640008951846,
     "user": {
      "displayName": "FIRAT YASAR",
      "photoUrl": "https://lh3.googleusercontent.com/a-/AOh14GhVcZnP-Z8h1PArfwtCXlEBwsA0em5WXleUX9MY=s64",
      "userId": "11059238169428736777"
     },
     "user_tz": -60
    },
    "id": "b561f185"
   },
   "outputs": [],
   "source": [
    "from IPython.display import display\n",
    "%matplotlib inline\n",
    "\n",
    "from PIL import Image\n",
    "\n",
    "#from skimage.feature import hog\n",
    "#from skimage.color import rgb2grey\n",
    "\n",
    "from sklearn.model_selection import train_test_split\n",
    "from sklearn.metrics import accuracy_score\n",
    "from sklearn.preprocessing import StandardScaler\n",
    "from sklearn.decomposition import PCA\n",
    "from sklearn.svm import SVC\n",
    "\n",
    "from sklearn.metrics import roc_curve, auc"
   ]
  },
  {
   "cell_type": "code",
   "execution_count": 108,
   "id": "OmHoS4Xs3VgX",
   "metadata": {
    "colab": {
     "base_uri": "https://localhost:8080/"
    },
    "executionInfo": {
     "elapsed": 2265,
     "status": "ok",
     "timestamp": 1640008954105,
     "user": {
      "displayName": "FIRAT YASAR",
      "photoUrl": "https://lh3.googleusercontent.com/a-/AOh14GhVcZnP-Z8h1PArfwtCXlEBwsA0em5WXleUX9MY=s64",
      "userId": "11059238169428736777"
     },
     "user_tz": -60
    },
    "id": "OmHoS4Xs3VgX",
    "outputId": "cd16d179-5c2c-4436-a48f-ce25ca3058b3"
   },
   "outputs": [
    {
     "name": "stdout",
     "output_type": "stream",
     "text": [
      "Drive already mounted at /content/drive; to attempt to forcibly remount, call drive.mount(\"/content/drive\", force_remount=True).\n"
     ]
    }
   ],
   "source": [
    "from google.colab import drive\n",
    "drive.mount('/content/drive')"
   ]
  },
  {
   "cell_type": "code",
   "execution_count": 109,
   "id": "9d3dad90",
   "metadata": {
    "executionInfo": {
     "elapsed": 11,
     "status": "ok",
     "timestamp": 1640008954105,
     "user": {
      "displayName": "FIRAT YASAR",
      "photoUrl": "https://lh3.googleusercontent.com/a-/AOh14GhVcZnP-Z8h1PArfwtCXlEBwsA0em5WXleUX9MY=s64",
      "userId": "11059238169428736777"
     },
     "user_tz": -60
    },
    "id": "9d3dad90"
   },
   "outputs": [],
   "source": [
    "data = pd.read_csv('/content/drive/MyDrive/Colab Notebooks/P6/data/flipkart_com-ecommerce_sample_1050.csv')"
   ]
  },
  {
   "cell_type": "code",
   "execution_count": 110,
   "id": "d47d6b10",
   "metadata": {
    "executionInfo": {
     "elapsed": 11,
     "status": "ok",
     "timestamp": 1640008954106,
     "user": {
      "displayName": "FIRAT YASAR",
      "photoUrl": "https://lh3.googleusercontent.com/a-/AOh14GhVcZnP-Z8h1PArfwtCXlEBwsA0em5WXleUX9MY=s64",
      "userId": "11059238169428736777"
     },
     "user_tz": -60
    },
    "id": "d47d6b10",
    "scrolled": true
   },
   "outputs": [],
   "source": [
    "data['categorie_1'] = data['product_category_tree'].str.extract('([a-zA-Z ]+)', expand=False).str.strip()"
   ]
  },
  {
   "cell_type": "code",
   "execution_count": 111,
   "id": "b14df82b",
   "metadata": {
    "colab": {
     "base_uri": "https://localhost:8080/"
    },
    "executionInfo": {
     "elapsed": 10,
     "status": "ok",
     "timestamp": 1640008954106,
     "user": {
      "displayName": "FIRAT YASAR",
      "photoUrl": "https://lh3.googleusercontent.com/a-/AOh14GhVcZnP-Z8h1PArfwtCXlEBwsA0em5WXleUX9MY=s64",
      "userId": "11059238169428736777"
     },
     "user_tz": -60
    },
    "id": "b14df82b",
    "outputId": "50777b23-2bfa-421b-b041-fbe3bb785cec"
   },
   "outputs": [
    {
     "name": "stdout",
     "output_type": "stream",
     "text": [
      "1050\n"
     ]
    }
   ],
   "source": [
    "%matplotlib inline\n",
    "from os import listdir\n",
    "from PIL import Image\n",
    "\n",
    "path = \"/content/drive/MyDrive/Colab Notebooks/P6/images/\"\n",
    "list_photos = data['image'].tolist()\n",
    "# list_photos = [file for file in listdir(path)]\n",
    "print(len(list_photos))"
   ]
  },
  {
   "cell_type": "code",
   "execution_count": 112,
   "id": "2fc69a5c",
   "metadata": {
    "colab": {
     "base_uri": "https://localhost:8080/"
    },
    "executionInfo": {
     "elapsed": 17538,
     "status": "ok",
     "timestamp": 1640008971637,
     "user": {
      "displayName": "FIRAT YASAR",
      "photoUrl": "https://lh3.googleusercontent.com/a-/AOh14GhVcZnP-Z8h1PArfwtCXlEBwsA0em5WXleUX9MY=s64",
      "userId": "11059238169428736777"
     },
     "user_tz": -60
    },
    "id": "2fc69a5c",
    "outputId": "7181185d-a938-4c9c-b49f-5589316b0cc5",
    "scrolled": true
   },
   "outputs": [
    {
     "name": "stdout",
     "output_type": "stream",
     "text": [
      "0\n",
      "100\n",
      "200\n",
      "300\n",
      "400\n",
      "500\n",
      "600\n",
      "700\n",
      "800\n",
      "900\n",
      "1000\n"
     ]
    }
   ],
   "source": [
    "SIZE = 128\n",
    "\n",
    "all_images = []\n",
    "\n",
    "for image_num in range(len(list_photos)) :\n",
    "    if image_num%100 == 0 : print(image_num)\n",
    "    image = cv2.imread(path+list_photos[image_num],0)      \n",
    "    image = cv2.resize(image, (SIZE, SIZE))\n",
    "    image = cv2.cvtColor(image, cv2.COLOR_RGB2BGR)\n",
    "    all_images.append(image)"
   ]
  },
  {
   "cell_type": "code",
   "execution_count": 113,
   "id": "33aed31c",
   "metadata": {
    "colab": {
     "base_uri": "https://localhost:8080/"
    },
    "executionInfo": {
     "elapsed": 8,
     "status": "ok",
     "timestamp": 1640008971637,
     "user": {
      "displayName": "FIRAT YASAR",
      "photoUrl": "https://lh3.googleusercontent.com/a-/AOh14GhVcZnP-Z8h1PArfwtCXlEBwsA0em5WXleUX9MY=s64",
      "userId": "11059238169428736777"
     },
     "user_tz": -60
    },
    "id": "33aed31c",
    "outputId": "51370e95-5fb9-4d84-a9ad-966e3f9517e8"
   },
   "outputs": [
    {
     "data": {
      "text/plain": [
       "array([[[[203, 203, 203],\n",
       "         [203, 203, 203],\n",
       "         [205, 205, 205],\n",
       "         ...,\n",
       "         [169, 169, 169],\n",
       "         [170, 170, 170],\n",
       "         [169, 169, 169]],\n",
       "\n",
       "        [[208, 208, 208],\n",
       "         [208, 208, 208],\n",
       "         [209, 209, 209],\n",
       "         ...,\n",
       "         [170, 170, 170],\n",
       "         [170, 170, 170],\n",
       "         [170, 170, 170]],\n",
       "\n",
       "        [[209, 209, 209],\n",
       "         [210, 210, 210],\n",
       "         [211, 211, 211],\n",
       "         ...,\n",
       "         [172, 172, 172],\n",
       "         [173, 173, 173],\n",
       "         [172, 172, 172]],\n",
       "\n",
       "        ...,\n",
       "\n",
       "        [[152, 152, 152],\n",
       "         [145, 145, 145],\n",
       "         [143, 143, 143],\n",
       "         ...,\n",
       "         [ 76,  76,  76],\n",
       "         [ 62,  62,  62],\n",
       "         [ 42,  42,  42]],\n",
       "\n",
       "        [[160, 160, 160],\n",
       "         [162, 162, 162],\n",
       "         [161, 161, 161],\n",
       "         ...,\n",
       "         [ 43,  43,  43],\n",
       "         [ 36,  36,  36],\n",
       "         [ 44,  44,  44]],\n",
       "\n",
       "        [[178, 178, 178],\n",
       "         [177, 177, 177],\n",
       "         [178, 178, 178],\n",
       "         ...,\n",
       "         [ 51,  51,  51],\n",
       "         [111, 111, 111],\n",
       "         [117, 117, 117]]],\n",
       "\n",
       "\n",
       "       [[[255, 255, 255],\n",
       "         [255, 255, 255],\n",
       "         [255, 255, 255],\n",
       "         ...,\n",
       "         [255, 255, 255],\n",
       "         [255, 255, 255],\n",
       "         [255, 255, 255]],\n",
       "\n",
       "        [[255, 255, 255],\n",
       "         [255, 255, 255],\n",
       "         [255, 255, 255],\n",
       "         ...,\n",
       "         [255, 255, 255],\n",
       "         [255, 255, 255],\n",
       "         [255, 255, 255]],\n",
       "\n",
       "        [[255, 255, 255],\n",
       "         [255, 255, 255],\n",
       "         [255, 255, 255],\n",
       "         ...,\n",
       "         [255, 255, 255],\n",
       "         [255, 255, 255],\n",
       "         [255, 255, 255]],\n",
       "\n",
       "        ...,\n",
       "\n",
       "        [[255, 255, 255],\n",
       "         [255, 255, 255],\n",
       "         [255, 255, 255],\n",
       "         ...,\n",
       "         [255, 255, 255],\n",
       "         [255, 255, 255],\n",
       "         [255, 255, 255]],\n",
       "\n",
       "        [[255, 255, 255],\n",
       "         [255, 255, 255],\n",
       "         [255, 255, 255],\n",
       "         ...,\n",
       "         [255, 255, 255],\n",
       "         [255, 255, 255],\n",
       "         [255, 255, 255]],\n",
       "\n",
       "        [[255, 255, 255],\n",
       "         [255, 255, 255],\n",
       "         [255, 255, 255],\n",
       "         ...,\n",
       "         [255, 255, 255],\n",
       "         [255, 255, 255],\n",
       "         [255, 255, 255]]],\n",
       "\n",
       "\n",
       "       [[[255, 255, 255],\n",
       "         [255, 255, 255],\n",
       "         [255, 255, 255],\n",
       "         ...,\n",
       "         [255, 255, 255],\n",
       "         [255, 255, 255],\n",
       "         [255, 255, 255]],\n",
       "\n",
       "        [[255, 255, 255],\n",
       "         [255, 255, 255],\n",
       "         [255, 255, 255],\n",
       "         ...,\n",
       "         [255, 255, 255],\n",
       "         [255, 255, 255],\n",
       "         [255, 255, 255]],\n",
       "\n",
       "        [[255, 255, 255],\n",
       "         [255, 255, 255],\n",
       "         [255, 255, 255],\n",
       "         ...,\n",
       "         [255, 255, 255],\n",
       "         [255, 255, 255],\n",
       "         [255, 255, 255]],\n",
       "\n",
       "        ...,\n",
       "\n",
       "        [[255, 255, 255],\n",
       "         [255, 255, 255],\n",
       "         [254, 254, 254],\n",
       "         ...,\n",
       "         [255, 255, 255],\n",
       "         [255, 255, 255],\n",
       "         [255, 255, 255]],\n",
       "\n",
       "        [[255, 255, 255],\n",
       "         [255, 255, 255],\n",
       "         [255, 255, 255],\n",
       "         ...,\n",
       "         [255, 255, 255],\n",
       "         [255, 255, 255],\n",
       "         [255, 255, 255]],\n",
       "\n",
       "        [[255, 255, 255],\n",
       "         [255, 255, 255],\n",
       "         [255, 255, 255],\n",
       "         ...,\n",
       "         [255, 255, 255],\n",
       "         [255, 255, 255],\n",
       "         [255, 255, 255]]],\n",
       "\n",
       "\n",
       "       ...,\n",
       "\n",
       "\n",
       "       [[[255, 255, 255],\n",
       "         [255, 255, 255],\n",
       "         [255, 255, 255],\n",
       "         ...,\n",
       "         [255, 255, 255],\n",
       "         [255, 255, 255],\n",
       "         [255, 255, 255]],\n",
       "\n",
       "        [[255, 255, 255],\n",
       "         [255, 255, 255],\n",
       "         [255, 255, 255],\n",
       "         ...,\n",
       "         [255, 255, 255],\n",
       "         [255, 255, 255],\n",
       "         [255, 255, 255]],\n",
       "\n",
       "        [[255, 255, 255],\n",
       "         [255, 255, 255],\n",
       "         [255, 255, 255],\n",
       "         ...,\n",
       "         [255, 255, 255],\n",
       "         [255, 255, 255],\n",
       "         [255, 255, 255]],\n",
       "\n",
       "        ...,\n",
       "\n",
       "        [[162, 162, 162],\n",
       "         [160, 160, 160],\n",
       "         [160, 160, 160],\n",
       "         ...,\n",
       "         [167, 167, 167],\n",
       "         [167, 167, 167],\n",
       "         [163, 163, 163]],\n",
       "\n",
       "        [[160, 160, 160],\n",
       "         [158, 158, 158],\n",
       "         [158, 158, 158],\n",
       "         ...,\n",
       "         [167, 167, 167],\n",
       "         [167, 167, 167],\n",
       "         [166, 166, 166]],\n",
       "\n",
       "        [[204, 204, 204],\n",
       "         [207, 207, 207],\n",
       "         [213, 213, 213],\n",
       "         ...,\n",
       "         [188, 188, 188],\n",
       "         [185, 185, 185],\n",
       "         [186, 186, 186]]],\n",
       "\n",
       "\n",
       "       [[[ 56,  56,  56],\n",
       "         [ 56,  56,  56],\n",
       "         [ 53,  53,  53],\n",
       "         ...,\n",
       "         [ 75,  75,  75],\n",
       "         [ 70,  70,  70],\n",
       "         [ 68,  68,  68]],\n",
       "\n",
       "        [[ 55,  55,  55],\n",
       "         [ 58,  58,  58],\n",
       "         [ 58,  58,  58],\n",
       "         ...,\n",
       "         [ 70,  70,  70],\n",
       "         [ 70,  70,  70],\n",
       "         [ 70,  70,  70]],\n",
       "\n",
       "        [[ 55,  55,  55],\n",
       "         [ 52,  52,  52],\n",
       "         [ 65,  65,  65],\n",
       "         ...,\n",
       "         [ 72,  72,  72],\n",
       "         [ 72,  72,  72],\n",
       "         [ 68,  68,  68]],\n",
       "\n",
       "        ...,\n",
       "\n",
       "        [[ 85,  85,  85],\n",
       "         [ 87,  87,  87],\n",
       "         [ 90,  90,  90],\n",
       "         ...,\n",
       "         [111, 111, 111],\n",
       "         [118, 118, 118],\n",
       "         [110, 110, 110]],\n",
       "\n",
       "        [[ 62,  62,  62],\n",
       "         [ 62,  62,  62],\n",
       "         [ 61,  61,  61],\n",
       "         ...,\n",
       "         [ 97,  97,  97],\n",
       "         [ 93,  93,  93],\n",
       "         [ 95,  95,  95]],\n",
       "\n",
       "        [[105, 105, 105],\n",
       "         [104, 104, 104],\n",
       "         [ 98,  98,  98],\n",
       "         ...,\n",
       "         [117, 117, 117],\n",
       "         [122, 122, 122],\n",
       "         [123, 123, 123]]],\n",
       "\n",
       "\n",
       "       [[[228, 228, 228],\n",
       "         [228, 228, 228],\n",
       "         [228, 228, 228],\n",
       "         ...,\n",
       "         [228, 228, 228],\n",
       "         [228, 228, 228],\n",
       "         [228, 228, 228]],\n",
       "\n",
       "        [[227, 227, 227],\n",
       "         [227, 227, 227],\n",
       "         [227, 227, 227],\n",
       "         ...,\n",
       "         [227, 227, 227],\n",
       "         [227, 227, 227],\n",
       "         [227, 227, 227]],\n",
       "\n",
       "        [[227, 227, 227],\n",
       "         [227, 227, 227],\n",
       "         [227, 227, 227],\n",
       "         ...,\n",
       "         [227, 227, 227],\n",
       "         [227, 227, 227],\n",
       "         [227, 227, 227]],\n",
       "\n",
       "        ...,\n",
       "\n",
       "        [[141, 141, 141],\n",
       "         [182, 182, 182],\n",
       "         [184, 184, 184],\n",
       "         ...,\n",
       "         [227, 227, 227],\n",
       "         [227, 227, 227],\n",
       "         [227, 227, 227]],\n",
       "\n",
       "        [[154, 154, 154],\n",
       "         [128, 128, 128],\n",
       "         [184, 184, 184],\n",
       "         ...,\n",
       "         [227, 227, 227],\n",
       "         [227, 227, 227],\n",
       "         [227, 227, 227]],\n",
       "\n",
       "        [[163, 163, 163],\n",
       "         [117, 117, 117],\n",
       "         [113, 113, 113],\n",
       "         ...,\n",
       "         [227, 227, 227],\n",
       "         [227, 227, 227],\n",
       "         [227, 227, 227]]]], dtype=uint8)"
      ]
     },
     "execution_count": 113,
     "metadata": {},
     "output_type": "execute_result"
    }
   ],
   "source": [
    "all_matrices = np.array(all_images)\n",
    "all_matrices"
   ]
  },
  {
   "cell_type": "code",
   "execution_count": 114,
   "id": "2c192b90",
   "metadata": {
    "executionInfo": {
     "elapsed": 7,
     "status": "ok",
     "timestamp": 1640008971638,
     "user": {
      "displayName": "FIRAT YASAR",
      "photoUrl": "https://lh3.googleusercontent.com/a-/AOh14GhVcZnP-Z8h1PArfwtCXlEBwsA0em5WXleUX9MY=s64",
      "userId": "11059238169428736777"
     },
     "user_tz": -60
    },
    "id": "2c192b90"
   },
   "outputs": [],
   "source": [
    "#Encode labels from text to integers.\n",
    "from sklearn import preprocessing\n",
    "le = preprocessing.LabelEncoder()\n",
    "le.fit(data['categorie_1'])\n",
    "labels_encoded = le.transform(data['categorie_1'])"
   ]
  },
  {
   "cell_type": "code",
   "execution_count": 115,
   "id": "710e5415",
   "metadata": {
    "executionInfo": {
     "elapsed": 8,
     "status": "ok",
     "timestamp": 1640008971639,
     "user": {
      "displayName": "FIRAT YASAR",
      "photoUrl": "https://lh3.googleusercontent.com/a-/AOh14GhVcZnP-Z8h1PArfwtCXlEBwsA0em5WXleUX9MY=s64",
      "userId": "11059238169428736777"
     },
     "user_tz": -60
    },
    "id": "710e5415"
   },
   "outputs": [],
   "source": [
    "from sklearn.model_selection import train_test_split\n",
    "\n",
    "X = all_matrices\n",
    "y = labels_encoded\n",
    "x_train, x_test, y_train, y_test = train_test_split(X, y, test_size=0.2, random_state=42)"
   ]
  },
  {
   "cell_type": "code",
   "execution_count": 116,
   "id": "a6e236ca",
   "metadata": {
    "executionInfo": {
     "elapsed": 907,
     "status": "ok",
     "timestamp": 1640008972539,
     "user": {
      "displayName": "FIRAT YASAR",
      "photoUrl": "https://lh3.googleusercontent.com/a-/AOh14GhVcZnP-Z8h1PArfwtCXlEBwsA0em5WXleUX9MY=s64",
      "userId": "11059238169428736777"
     },
     "user_tz": -60
    },
    "id": "a6e236ca"
   },
   "outputs": [],
   "source": [
    "# Normalize pixel values to between 0 and 1\n",
    "x_train, x_test = x_train / 255.0, x_test / 255.0"
   ]
  },
  {
   "cell_type": "code",
   "execution_count": 117,
   "id": "398dbf1a",
   "metadata": {
    "executionInfo": {
     "elapsed": 8,
     "status": "ok",
     "timestamp": 1640008972540,
     "user": {
      "displayName": "FIRAT YASAR",
      "photoUrl": "https://lh3.googleusercontent.com/a-/AOh14GhVcZnP-Z8h1PArfwtCXlEBwsA0em5WXleUX9MY=s64",
      "userId": "11059238169428736777"
     },
     "user_tz": -60
    },
    "id": "398dbf1a"
   },
   "outputs": [],
   "source": [
    "#One hot encode y values for neural network. \n",
    "from tensorflow.keras.utils import to_categorical\n",
    "\n",
    "y_train_one_hot = to_categorical(y_train)\n",
    "y_test_one_hot = to_categorical(y_test)"
   ]
  },
  {
   "cell_type": "markdown",
   "id": "f7b396d3",
   "metadata": {
    "id": "f7b396d3"
   },
   "source": [
    "## CNN"
   ]
  },
  {
   "cell_type": "code",
   "execution_count": 118,
   "id": "8236e606",
   "metadata": {
    "executionInfo": {
     "elapsed": 6,
     "status": "ok",
     "timestamp": 1640008972540,
     "user": {
      "displayName": "FIRAT YASAR",
      "photoUrl": "https://lh3.googleusercontent.com/a-/AOh14GhVcZnP-Z8h1PArfwtCXlEBwsA0em5WXleUX9MY=s64",
      "userId": "11059238169428736777"
     },
     "user_tz": -60
    },
    "id": "8236e606"
   },
   "outputs": [],
   "source": [
    "activation = 'sigmoid'\n",
    "# activation = 'relu'\n",
    "\n",
    "feature_extractor = Sequential()\n",
    "feature_extractor.add(Conv2D(32, 3, activation = activation, padding = 'same', input_shape = (SIZE, SIZE, 3)))\n",
    "feature_extractor.add(BatchNormalization())\n",
    "\n",
    "feature_extractor.add(Conv2D(32, 3, activation = activation, padding = 'same', kernel_initializer = 'he_uniform'))\n",
    "feature_extractor.add(BatchNormalization())\n",
    "feature_extractor.add(MaxPooling2D())\n",
    "\n",
    "feature_extractor.add(Conv2D(64, 3, activation = activation, padding = 'same', kernel_initializer = 'he_uniform'))\n",
    "feature_extractor.add(BatchNormalization())\n",
    "\n",
    "feature_extractor.add(Conv2D(64, 3, activation = activation, padding = 'same', kernel_initializer = 'he_uniform'))\n",
    "feature_extractor.add(BatchNormalization())\n",
    "feature_extractor.add(MaxPooling2D())\n",
    "\n",
    "feature_extractor.add(Flatten())\n",
    "\n",
    "#Add layers for deep learning prediction\n",
    "x = feature_extractor.output  \n",
    "x = Dense(128, activation = activation, kernel_initializer = 'he_uniform')(x)\n",
    "prediction_layer = Dense(7, activation = 'softmax')(x)"
   ]
  },
  {
   "cell_type": "code",
   "execution_count": 119,
   "id": "60d045a4",
   "metadata": {
    "colab": {
     "base_uri": "https://localhost:8080/"
    },
    "executionInfo": {
     "elapsed": 424,
     "status": "ok",
     "timestamp": 1640008972958,
     "user": {
      "displayName": "FIRAT YASAR",
      "photoUrl": "https://lh3.googleusercontent.com/a-/AOh14GhVcZnP-Z8h1PArfwtCXlEBwsA0em5WXleUX9MY=s64",
      "userId": "11059238169428736777"
     },
     "user_tz": -60
    },
    "id": "60d045a4",
    "outputId": "4baa4b84-6d58-4114-9b3d-ade8e745ad28"
   },
   "outputs": [
    {
     "name": "stdout",
     "output_type": "stream",
     "text": [
      "Model: \"model_3\"\n",
      "_________________________________________________________________\n",
      " Layer (type)                Output Shape              Param #   \n",
      "=================================================================\n",
      " conv2d_12_input (InputLayer  [(None, 128, 128, 3)]    0         \n",
      " )                                                               \n",
      "                                                                 \n",
      " conv2d_12 (Conv2D)          (None, 128, 128, 32)      896       \n",
      "                                                                 \n",
      " batch_normalization_12 (Bat  (None, 128, 128, 32)     128       \n",
      " chNormalization)                                                \n",
      "                                                                 \n",
      " conv2d_13 (Conv2D)          (None, 128, 128, 32)      9248      \n",
      "                                                                 \n",
      " batch_normalization_13 (Bat  (None, 128, 128, 32)     128       \n",
      " chNormalization)                                                \n",
      "                                                                 \n",
      " max_pooling2d_6 (MaxPooling  (None, 64, 64, 32)       0         \n",
      " 2D)                                                             \n",
      "                                                                 \n",
      " conv2d_14 (Conv2D)          (None, 64, 64, 64)        18496     \n",
      "                                                                 \n",
      " batch_normalization_14 (Bat  (None, 64, 64, 64)       256       \n",
      " chNormalization)                                                \n",
      "                                                                 \n",
      " conv2d_15 (Conv2D)          (None, 64, 64, 64)        36928     \n",
      "                                                                 \n",
      " batch_normalization_15 (Bat  (None, 64, 64, 64)       256       \n",
      " chNormalization)                                                \n",
      "                                                                 \n",
      " max_pooling2d_7 (MaxPooling  (None, 32, 32, 64)       0         \n",
      " 2D)                                                             \n",
      "                                                                 \n",
      " flatten_3 (Flatten)         (None, 65536)             0         \n",
      "                                                                 \n",
      " dense_6 (Dense)             (None, 128)               8388736   \n",
      "                                                                 \n",
      " dense_7 (Dense)             (None, 7)                 903       \n",
      "                                                                 \n",
      "=================================================================\n",
      "Total params: 8,455,975\n",
      "Trainable params: 8,455,591\n",
      "Non-trainable params: 384\n",
      "_________________________________________________________________\n",
      "None\n"
     ]
    }
   ],
   "source": [
    "# Make a new model combining both feature extractor and x\n",
    "cnn_model = Model(inputs=feature_extractor.input, outputs=prediction_layer)\n",
    "cnn_model.compile(optimizer='rmsprop',loss = 'categorical_crossentropy', metrics = ['accuracy'])\n",
    "print(cnn_model.summary()) "
   ]
  },
  {
   "cell_type": "code",
   "execution_count": 120,
   "id": "c4a59bf1",
   "metadata": {
    "colab": {
     "base_uri": "https://localhost:8080/",
     "height": 1000
    },
    "executionInfo": {
     "elapsed": 145832,
     "status": "ok",
     "timestamp": 1640009118782,
     "user": {
      "displayName": "FIRAT YASAR",
      "photoUrl": "https://lh3.googleusercontent.com/a-/AOh14GhVcZnP-Z8h1PArfwtCXlEBwsA0em5WXleUX9MY=s64",
      "userId": "11059238169428736777"
     },
     "user_tz": -60
    },
    "id": "c4a59bf1",
    "outputId": "0e9aa596-73ae-4c33-b1dc-cd09e4f6b318",
    "scrolled": false
   },
   "outputs": [
    {
     "name": "stdout",
     "output_type": "stream",
     "text": [
      "Epoch 1/35\n",
      "27/27 [==============================] - 10s 183ms/step - loss: 2.1221 - accuracy: 0.2548 - val_loss: 2.3117 - val_accuracy: 0.1238\n",
      "Epoch 2/35\n",
      "27/27 [==============================] - 3s 114ms/step - loss: 1.5925 - accuracy: 0.4095 - val_loss: 2.2282 - val_accuracy: 0.1810\n",
      "Epoch 3/35\n",
      "27/27 [==============================] - 3s 106ms/step - loss: 1.4888 - accuracy: 0.4512 - val_loss: 2.7973 - val_accuracy: 0.1667\n",
      "Epoch 4/35\n",
      "27/27 [==============================] - 3s 106ms/step - loss: 1.3935 - accuracy: 0.4940 - val_loss: 3.1432 - val_accuracy: 0.1667\n",
      "Epoch 5/35\n",
      "27/27 [==============================] - 3s 103ms/step - loss: 1.3088 - accuracy: 0.5286 - val_loss: 2.5595 - val_accuracy: 0.1667\n",
      "Epoch 6/35\n",
      "27/27 [==============================] - 3s 102ms/step - loss: 1.2343 - accuracy: 0.5583 - val_loss: 3.3620 - val_accuracy: 0.1667\n",
      "Epoch 7/35\n",
      "27/27 [==============================] - 3s 103ms/step - loss: 1.1745 - accuracy: 0.5940 - val_loss: 3.2573 - val_accuracy: 0.1667\n",
      "Epoch 8/35\n",
      "27/27 [==============================] - 3s 103ms/step - loss: 1.1254 - accuracy: 0.6226 - val_loss: 2.5058 - val_accuracy: 0.1714\n",
      "Epoch 9/35\n",
      "27/27 [==============================] - 3s 103ms/step - loss: 1.1570 - accuracy: 0.6036 - val_loss: 2.6925 - val_accuracy: 0.1857\n",
      "Epoch 10/35\n",
      "27/27 [==============================] - 3s 103ms/step - loss: 1.0963 - accuracy: 0.6357 - val_loss: 2.5662 - val_accuracy: 0.1714\n",
      "Epoch 11/35\n",
      "27/27 [==============================] - 3s 102ms/step - loss: 1.0374 - accuracy: 0.6524 - val_loss: 2.6639 - val_accuracy: 0.1905\n",
      "Epoch 12/35\n",
      "27/27 [==============================] - 3s 102ms/step - loss: 1.0429 - accuracy: 0.6548 - val_loss: 2.7703 - val_accuracy: 0.2333\n",
      "Epoch 13/35\n",
      "27/27 [==============================] - 3s 103ms/step - loss: 0.9995 - accuracy: 0.6643 - val_loss: 1.9089 - val_accuracy: 0.3190\n",
      "Epoch 14/35\n",
      "27/27 [==============================] - 3s 102ms/step - loss: 0.9524 - accuracy: 0.6893 - val_loss: 1.6202 - val_accuracy: 0.4429\n",
      "Epoch 15/35\n",
      "27/27 [==============================] - 3s 102ms/step - loss: 0.9068 - accuracy: 0.7071 - val_loss: 2.8611 - val_accuracy: 0.2000\n",
      "Epoch 16/35\n",
      "27/27 [==============================] - 3s 103ms/step - loss: 0.9167 - accuracy: 0.7012 - val_loss: 2.1422 - val_accuracy: 0.2571\n",
      "Epoch 17/35\n",
      "27/27 [==============================] - 3s 103ms/step - loss: 0.9052 - accuracy: 0.7036 - val_loss: 1.3872 - val_accuracy: 0.5571\n",
      "Epoch 18/35\n",
      "27/27 [==============================] - 3s 112ms/step - loss: 0.8438 - accuracy: 0.7357 - val_loss: 1.3671 - val_accuracy: 0.5143\n",
      "Epoch 19/35\n",
      "27/27 [==============================] - 3s 109ms/step - loss: 0.8379 - accuracy: 0.7226 - val_loss: 2.8043 - val_accuracy: 0.2190\n",
      "Epoch 20/35\n",
      "27/27 [==============================] - 3s 111ms/step - loss: 0.8032 - accuracy: 0.7381 - val_loss: 1.5543 - val_accuracy: 0.4810\n",
      "Epoch 21/35\n",
      "27/27 [==============================] - 3s 114ms/step - loss: 0.7751 - accuracy: 0.7643 - val_loss: 1.3390 - val_accuracy: 0.5143\n",
      "Epoch 22/35\n",
      "27/27 [==============================] - 3s 117ms/step - loss: 0.7323 - accuracy: 0.7631 - val_loss: 1.5133 - val_accuracy: 0.4905\n",
      "Epoch 23/35\n",
      "27/27 [==============================] - 3s 111ms/step - loss: 0.7125 - accuracy: 0.7679 - val_loss: 2.0872 - val_accuracy: 0.4048\n",
      "Epoch 24/35\n",
      "27/27 [==============================] - 3s 106ms/step - loss: 0.7022 - accuracy: 0.7881 - val_loss: 1.9536 - val_accuracy: 0.3762\n",
      "Epoch 25/35\n",
      "27/27 [==============================] - 3s 102ms/step - loss: 0.7044 - accuracy: 0.7821 - val_loss: 2.0587 - val_accuracy: 0.4000\n",
      "Epoch 26/35\n",
      "27/27 [==============================] - 3s 102ms/step - loss: 0.6266 - accuracy: 0.8190 - val_loss: 1.2860 - val_accuracy: 0.5714\n",
      "Epoch 27/35\n",
      "27/27 [==============================] - 3s 103ms/step - loss: 0.6267 - accuracy: 0.8190 - val_loss: 1.2189 - val_accuracy: 0.5810\n",
      "Epoch 28/35\n",
      "27/27 [==============================] - 3s 106ms/step - loss: 0.5893 - accuracy: 0.8226 - val_loss: 1.7351 - val_accuracy: 0.4714\n",
      "Epoch 29/35\n",
      "27/27 [==============================] - 3s 102ms/step - loss: 0.5902 - accuracy: 0.8393 - val_loss: 1.9981 - val_accuracy: 0.4048\n",
      "Epoch 30/35\n",
      "27/27 [==============================] - 3s 103ms/step - loss: 0.5622 - accuracy: 0.8440 - val_loss: 1.3327 - val_accuracy: 0.5333\n",
      "Epoch 31/35\n",
      "27/27 [==============================] - 3s 103ms/step - loss: 0.5636 - accuracy: 0.8131 - val_loss: 1.3573 - val_accuracy: 0.5619\n",
      "Epoch 32/35\n",
      "27/27 [==============================] - 3s 101ms/step - loss: 0.5197 - accuracy: 0.8452 - val_loss: 2.8754 - val_accuracy: 0.2571\n",
      "Epoch 33/35\n",
      "27/27 [==============================] - 3s 102ms/step - loss: 0.5390 - accuracy: 0.8286 - val_loss: 1.2577 - val_accuracy: 0.5667\n",
      "Epoch 34/35\n",
      "27/27 [==============================] - 3s 101ms/step - loss: 0.4976 - accuracy: 0.8571 - val_loss: 1.2441 - val_accuracy: 0.5714\n",
      "Epoch 35/35\n",
      "27/27 [==============================] - 3s 102ms/step - loss: 0.4784 - accuracy: 0.8607 - val_loss: 2.3194 - val_accuracy: 0.3762\n"
     ]
    },
    {
     "data": {
      "image/png": "[encoded data removed]",
      "text/plain": [
       "<Figure size 432x288 with 1 Axes>"
      ]
     },
     "metadata": {
      "needs_background": "light"
     },
     "output_type": "display_data"
    }
   ],
   "source": [
    "#Train the CNN model\n",
    "history = cnn_model.fit(x_train, y_train_one_hot, epochs=35, validation_data = (x_test, y_test_one_hot))\n",
    "\n",
    "#plot the training and validation accuracy and loss at each epoch\n",
    "loss = history.history['loss']\n",
    "val_loss = history.history['val_loss']\n",
    "epochs = range(1, len(loss) + 1)\n",
    "plt.plot(epochs, loss, 'y', label='Training loss')\n",
    "plt.plot(epochs, val_loss, 'r', label='Validation loss')\n",
    "plt.title('Training and validation loss')\n",
    "plt.xlabel('Epochs')\n",
    "plt.ylabel('Loss')\n",
    "plt.legend()\n",
    "plt.show()"
   ]
  },
  {
   "cell_type": "code",
   "execution_count": 121,
   "id": "78e9452a",
   "metadata": {
    "colab": {
     "base_uri": "https://localhost:8080/",
     "height": 295
    },
    "executionInfo": {
     "elapsed": 10,
     "status": "ok",
     "timestamp": 1640009118782,
     "user": {
      "displayName": "FIRAT YASAR",
      "photoUrl": "https://lh3.googleusercontent.com/a-/AOh14GhVcZnP-Z8h1PArfwtCXlEBwsA0em5WXleUX9MY=s64",
      "userId": "11059238169428736777"
     },
     "user_tz": -60
    },
    "id": "78e9452a",
    "outputId": "790f07fe-6610-4512-fd3e-d4af920706e6",
    "scrolled": true
   },
   "outputs": [
    {
     "data": {
      "image/png": "[encoded data removed]",
      "text/plain": [
       "<Figure size 432x288 with 1 Axes>"
      ]
     },
     "metadata": {
      "needs_background": "light"
     },
     "output_type": "display_data"
    }
   ],
   "source": [
    "acc = history.history['accuracy']\n",
    "val_acc = history.history['val_accuracy']\n",
    "plt.plot(epochs, acc, 'y', label='Training acc')\n",
    "plt.plot(epochs, val_acc, 'r', label='Validation acc')\n",
    "plt.title('Training and validation accuracy')\n",
    "plt.xlabel('Epochs')\n",
    "plt.ylabel('Accuracy')\n",
    "plt.legend()\n",
    "plt.show()"
   ]
  },
  {
   "cell_type": "code",
   "execution_count": 122,
   "id": "94886893",
   "metadata": {
    "executionInfo": {
     "elapsed": 17,
     "status": "ok",
     "timestamp": 1640009118792,
     "user": {
      "displayName": "FIRAT YASAR",
      "photoUrl": "https://lh3.googleusercontent.com/a-/AOh14GhVcZnP-Z8h1PArfwtCXlEBwsA0em5WXleUX9MY=s64",
      "userId": "11059238169428736777"
     },
     "user_tz": -60
    },
    "id": "94886893"
   },
   "outputs": [],
   "source": [
    "test_labels = le.inverse_transform(y_test)"
   ]
  },
  {
   "cell_type": "code",
   "execution_count": 123,
   "id": "fba71872",
   "metadata": {
    "executionInfo": {
     "elapsed": 406,
     "status": "ok",
     "timestamp": 1640009119182,
     "user": {
      "displayName": "FIRAT YASAR",
      "photoUrl": "https://lh3.googleusercontent.com/a-/AOh14GhVcZnP-Z8h1PArfwtCXlEBwsA0em5WXleUX9MY=s64",
      "userId": "11059238169428736777"
     },
     "user_tz": -60
    },
    "id": "fba71872"
   },
   "outputs": [],
   "source": [
    "prediction_NN = cnn_model.predict(x_test)\n",
    "prediction_NN = np.argmax(prediction_NN, axis=-1)\n",
    "prediction_NN = le.inverse_transform(prediction_NN)"
   ]
  },
  {
   "cell_type": "code",
   "execution_count": 124,
   "id": "g7yTOzOh4RIJ",
   "metadata": {
    "colab": {
     "base_uri": "https://localhost:8080/",
     "height": 421
    },
    "executionInfo": {
     "elapsed": 812,
     "status": "ok",
     "timestamp": 1640009119990,
     "user": {
      "displayName": "FIRAT YASAR",
      "photoUrl": "https://lh3.googleusercontent.com/a-/AOh14GhVcZnP-Z8h1PArfwtCXlEBwsA0em5WXleUX9MY=s64",
      "userId": "11059238169428736777"
     },
     "user_tz": -60
    },
    "id": "g7yTOzOh4RIJ",
    "outputId": "98a5f375-6b57-4370-bf90-b743752520db"
   },
   "outputs": [
    {
     "name": "stdout",
     "output_type": "stream",
     "text": [
      "L'echantillon de test contient : 210 articles.\n",
      "[[ 8  1  2  1 15  0  0]\n",
      " [ 0  9  0  1 11  0  0]\n",
      " [12  1  4  0 20  0  1]\n",
      " [ 2  0  0  4 23  0  1]\n",
      " [ 2  1  0  0 32  0  0]\n",
      " [ 5  1  2  0 11  6  1]\n",
      " [ 4  2  0  1 10  0 16]]\n"
     ]
    },
    {
     "data": {
      "text/plain": [
       "<matplotlib.axes._subplots.AxesSubplot at 0x7f274e2f8c50>"
      ]
     },
     "execution_count": 124,
     "metadata": {},
     "output_type": "execute_result"
    },
    {
     "data": {
      "image/png": "[encoded data removed]",
      "text/plain": [
       "<Figure size 432x288 with 2 Axes>"
      ]
     },
     "metadata": {
      "needs_background": "light"
     },
     "output_type": "display_data"
    }
   ],
   "source": [
    "#Confusion Matrix - verify accuracy of each class\n",
    "from sklearn.metrics import confusion_matrix\n",
    "cm = confusion_matrix(test_labels, prediction_NN)\n",
    "print(\"L'echantillon de test contient :\", x_test.shape[0], \"articles.\")\n",
    "print(cm)\n",
    "sns.heatmap(cm, annot=True)"
   ]
  },
  {
   "cell_type": "code",
   "execution_count": 125,
   "id": "c288f4fd",
   "metadata": {
    "colab": {
     "base_uri": "https://localhost:8080/",
     "height": 303
    },
    "executionInfo": {
     "elapsed": 850,
     "status": "ok",
     "timestamp": 1640009120836,
     "user": {
      "displayName": "FIRAT YASAR",
      "photoUrl": "https://lh3.googleusercontent.com/a-/AOh14GhVcZnP-Z8h1PArfwtCXlEBwsA0em5WXleUX9MY=s64",
      "userId": "11059238169428736777"
     },
     "user_tz": -60
    },
    "id": "c288f4fd",
    "outputId": "32e8faf6-62a6-416a-e1ab-d806121bff58",
    "scrolled": true
   },
   "outputs": [
    {
     "name": "stdout",
     "output_type": "stream",
     "text": [
      "The prediction for this image is:  ['Home Furnishing']\n",
      "The actual label for this image is:  Home Furnishing\n"
     ]
    },
    {
     "data": {
      "image/png": "[encoded data removed]",
      "text/plain": [
       "<Figure size 432x288 with 1 Axes>"
      ]
     },
     "metadata": {
      "needs_background": "light"
     },
     "output_type": "display_data"
    }
   ],
   "source": [
    "#Check results on a few select images\n",
    "\n",
    "n=9  #Select the index of image to be loaded for testing\n",
    "img = x_test[n]\n",
    "plt.imshow(img)\n",
    "input_img = np.expand_dims(img, axis=0) #Expand dims so the input is (num images, x, y, c)\n",
    "prediction = np.argmax(cnn_model.predict(input_img))  #argmax to convert categorical back to original\n",
    "prediction = le.inverse_transform([prediction])  #Reverse the label encoder to original name\n",
    "print(\"The prediction for this image is: \", prediction)\n",
    "print(\"The actual label for this image is: \", test_labels[n])"
   ]
  },
  {
   "cell_type": "code",
   "execution_count": 126,
   "id": "14ce2590",
   "metadata": {
    "colab": {
     "base_uri": "https://localhost:8080/"
    },
    "executionInfo": {
     "elapsed": 9,
     "status": "ok",
     "timestamp": 1640009120837,
     "user": {
      "displayName": "FIRAT YASAR",
      "photoUrl": "https://lh3.googleusercontent.com/a-/AOh14GhVcZnP-Z8h1PArfwtCXlEBwsA0em5WXleUX9MY=s64",
      "userId": "11059238169428736777"
     },
     "user_tz": -60
    },
    "id": "14ce2590",
    "outputId": "b391aeb8-6683-4a2c-89a4-fa5a4e1d4c12"
   },
   "outputs": [
    {
     "name": "stdout",
     "output_type": "stream",
     "text": [
      "Accuracy =  0.3761904761904762\n"
     ]
    }
   ],
   "source": [
    "from sklearn import metrics\n",
    "print (\"Accuracy = \", metrics.accuracy_score(test_labels, prediction_NN))"
   ]
  },
  {
   "cell_type": "markdown",
   "id": "02c24d2c",
   "metadata": {
    "id": "02c24d2c"
   },
   "source": [
    "## Random Forest Classifier"
   ]
  },
  {
   "cell_type": "code",
   "execution_count": 127,
   "id": "8c9add0a",
   "metadata": {
    "executionInfo": {
     "elapsed": 1104,
     "status": "ok",
     "timestamp": 1640009121936,
     "user": {
      "displayName": "FIRAT YASAR",
      "photoUrl": "https://lh3.googleusercontent.com/a-/AOh14GhVcZnP-Z8h1PArfwtCXlEBwsA0em5WXleUX9MY=s64",
      "userId": "11059238169428736777"
     },
     "user_tz": -60
    },
    "id": "8c9add0a"
   },
   "outputs": [],
   "source": [
    "#Now, let us use features from convolutional network for RF\n",
    "X_for_RF = feature_extractor.predict(x_train) #This is out X input to RF\n",
    "\n",
    "#RANDOM FOREST\n",
    "from sklearn.ensemble import RandomForestClassifier\n",
    "RF_model = RandomForestClassifier(n_estimators = 50, random_state = 42)"
   ]
  },
  {
   "cell_type": "code",
   "execution_count": 128,
   "id": "aeed3375",
   "metadata": {
    "colab": {
     "base_uri": "https://localhost:8080/"
    },
    "executionInfo": {
     "elapsed": 5614,
     "status": "ok",
     "timestamp": 1640009127548,
     "user": {
      "displayName": "FIRAT YASAR",
      "photoUrl": "https://lh3.googleusercontent.com/a-/AOh14GhVcZnP-Z8h1PArfwtCXlEBwsA0em5WXleUX9MY=s64",
      "userId": "11059238169428736777"
     },
     "user_tz": -60
    },
    "id": "aeed3375",
    "outputId": "648f16bc-8a69-4441-ea42-d8a07089ab4b"
   },
   "outputs": [
    {
     "data": {
      "text/plain": [
       "RandomForestClassifier(n_estimators=50, random_state=42)"
      ]
     },
     "execution_count": 128,
     "metadata": {},
     "output_type": "execute_result"
    }
   ],
   "source": [
    "# Train the model on training data\n",
    "RF_model.fit(X_for_RF, y_train) #For sklearn no one hot encoding"
   ]
  },
  {
   "cell_type": "code",
   "execution_count": 129,
   "id": "4e1bb398",
   "metadata": {
    "executionInfo": {
     "elapsed": 423,
     "status": "ok",
     "timestamp": 1640009127957,
     "user": {
      "displayName": "FIRAT YASAR",
      "photoUrl": "https://lh3.googleusercontent.com/a-/AOh14GhVcZnP-Z8h1PArfwtCXlEBwsA0em5WXleUX9MY=s64",
      "userId": "11059238169428736777"
     },
     "user_tz": -60
    },
    "id": "4e1bb398"
   },
   "outputs": [],
   "source": [
    "#Send test data through same feature extractor process\n",
    "X_test_feature = feature_extractor.predict(x_test)\n",
    "#Now predict using the trained RF model. \n",
    "prediction_RF = RF_model.predict(X_test_feature)\n",
    "#Inverse le transform to get original label back. \n",
    "prediction_RF = le.inverse_transform(prediction_RF)"
   ]
  },
  {
   "cell_type": "code",
   "execution_count": 130,
   "id": "c5f873f5",
   "metadata": {
    "colab": {
     "base_uri": "https://localhost:8080/"
    },
    "executionInfo": {
     "elapsed": 5,
     "status": "ok",
     "timestamp": 1640009127958,
     "user": {
      "displayName": "FIRAT YASAR",
      "photoUrl": "https://lh3.googleusercontent.com/a-/AOh14GhVcZnP-Z8h1PArfwtCXlEBwsA0em5WXleUX9MY=s64",
      "userId": "11059238169428736777"
     },
     "user_tz": -60
    },
    "id": "c5f873f5",
    "outputId": "3e6bc165-45cb-44ae-df45-b4b488a66154"
   },
   "outputs": [
    {
     "name": "stdout",
     "output_type": "stream",
     "text": [
      "Accuracy =  0.6\n"
     ]
    }
   ],
   "source": [
    "print (\"Accuracy = \", metrics.accuracy_score(test_labels, prediction_RF))"
   ]
  },
  {
   "cell_type": "code",
   "execution_count": 131,
   "id": "52926a67",
   "metadata": {
    "colab": {
     "base_uri": "https://localhost:8080/",
     "height": 282
    },
    "executionInfo": {
     "elapsed": 1779,
     "status": "ok",
     "timestamp": 1640009129733,
     "user": {
      "displayName": "FIRAT YASAR",
      "photoUrl": "https://lh3.googleusercontent.com/a-/AOh14GhVcZnP-Z8h1PArfwtCXlEBwsA0em5WXleUX9MY=s64",
      "userId": "11059238169428736777"
     },
     "user_tz": -60
    },
    "id": "52926a67",
    "outputId": "87ffbac7-1064-4239-997f-1d3542a23983"
   },
   "outputs": [
    {
     "data": {
      "text/plain": [
       "<matplotlib.axes._subplots.AxesSubplot at 0x7f274a95a210>"
      ]
     },
     "execution_count": 131,
     "metadata": {},
     "output_type": "execute_result"
    },
    {
     "data": {
      "image/png": "[encoded data removed]",
      "text/plain": [
       "<Figure size 432x288 with 2 Axes>"
      ]
     },
     "metadata": {
      "needs_background": "light"
     },
     "output_type": "display_data"
    }
   ],
   "source": [
    "#Confusion Matrix - verify accuracy of each class\n",
    "cm = confusion_matrix(test_labels, prediction_RF)\n",
    "#print(cm)\n",
    "sns.heatmap(cm, annot=True)"
   ]
  },
  {
   "cell_type": "code",
   "execution_count": 132,
   "id": "a26f4d14",
   "metadata": {
    "colab": {
     "base_uri": "https://localhost:8080/",
     "height": 303
    },
    "executionInfo": {
     "elapsed": 1765,
     "status": "ok",
     "timestamp": 1640009131493,
     "user": {
      "displayName": "FIRAT YASAR",
      "photoUrl": "https://lh3.googleusercontent.com/a-/AOh14GhVcZnP-Z8h1PArfwtCXlEBwsA0em5WXleUX9MY=s64",
      "userId": "11059238169428736777"
     },
     "user_tz": -60
    },
    "id": "a26f4d14",
    "outputId": "1b4997a2-885b-4d13-e3c0-cbe8b7bd5433"
   },
   "outputs": [
    {
     "name": "stdout",
     "output_type": "stream",
     "text": [
      "The prediction for this image is:  ['Watches']\n",
      "The actual label for this image is:  Watches\n"
     ]
    },
    {
     "data": {
      "image/png": "[encoded data removed]",
      "text/plain": [
       "<Figure size 432x288 with 1 Axes>"
      ]
     },
     "metadata": {
      "needs_background": "light"
     },
     "output_type": "display_data"
    }
   ],
   "source": [
    "#Check results on a few select images\n",
    "#n=5 #dog park. RF works better than CNN\n",
    "n=10 #Select the index of image to be loaded for testing\n",
    "img = x_test[n]\n",
    "plt.imshow(img)\n",
    "input_img = np.expand_dims(img, axis=0) #Expand dims so the input is (num images, x, y, c)\n",
    "input_img_features=feature_extractor.predict(input_img)\n",
    "prediction_RF = RF_model.predict(input_img_features)[0] \n",
    "prediction_RF = le.inverse_transform([prediction_RF])  #Reverse the label encoder to original name\n",
    "print(\"The prediction for this image is: \", prediction_RF)\n",
    "print(\"The actual label for this image is: \", test_labels[n])"
   ]
  },
  {
   "cell_type": "markdown",
   "id": "37207135",
   "metadata": {
    "id": "37207135"
   },
   "source": [
    "## KNN"
   ]
  },
  {
   "cell_type": "code",
   "execution_count": 133,
   "id": "709f04f8",
   "metadata": {
    "executionInfo": {
     "elapsed": 2389,
     "status": "ok",
     "timestamp": 1640009133872,
     "user": {
      "displayName": "FIRAT YASAR",
      "photoUrl": "https://lh3.googleusercontent.com/a-/AOh14GhVcZnP-Z8h1PArfwtCXlEBwsA0em5WXleUX9MY=s64",
      "userId": "11059238169428736777"
     },
     "user_tz": -60
    },
    "id": "709f04f8"
   },
   "outputs": [],
   "source": [
    "#Now, let us use features from convolutional network for KNN\n",
    "X_for_KNN = feature_extractor.predict(x_train) #This is out X input to RF\n",
    "\n",
    "#KNN\n",
    "from sklearn.neighbors import KNeighborsClassifier\n",
    "KNN_model = KNeighborsClassifier(n_neighbors=4, n_jobs=4)"
   ]
  },
  {
   "cell_type": "code",
   "execution_count": 134,
   "id": "34e2910a",
   "metadata": {
    "colab": {
     "base_uri": "https://localhost:8080/"
    },
    "executionInfo": {
     "elapsed": 6,
     "status": "ok",
     "timestamp": 1640009133872,
     "user": {
      "displayName": "FIRAT YASAR",
      "photoUrl": "https://lh3.googleusercontent.com/a-/AOh14GhVcZnP-Z8h1PArfwtCXlEBwsA0em5WXleUX9MY=s64",
      "userId": "11059238169428736777"
     },
     "user_tz": -60
    },
    "id": "34e2910a",
    "outputId": "f1a63b2f-f006-422e-cb47-bd0eec2e80fe"
   },
   "outputs": [
    {
     "data": {
      "text/plain": [
       "KNeighborsClassifier(n_jobs=4, n_neighbors=4)"
      ]
     },
     "execution_count": 134,
     "metadata": {},
     "output_type": "execute_result"
    }
   ],
   "source": [
    "# Train the model on training data\n",
    "KNN_model.fit(X_for_KNN, y_train) #For sklearn no one hot encoding"
   ]
  },
  {
   "cell_type": "code",
   "execution_count": 135,
   "id": "a2fe27f3",
   "metadata": {
    "executionInfo": {
     "elapsed": 5564,
     "status": "ok",
     "timestamp": 1640009139432,
     "user": {
      "displayName": "FIRAT YASAR",
      "photoUrl": "https://lh3.googleusercontent.com/a-/AOh14GhVcZnP-Z8h1PArfwtCXlEBwsA0em5WXleUX9MY=s64",
      "userId": "11059238169428736777"
     },
     "user_tz": -60
    },
    "id": "a2fe27f3"
   },
   "outputs": [],
   "source": [
    "#Send test data through same feature extractor process\n",
    "X_test_feature = feature_extractor.predict(x_test)\n",
    "#Now predict using the trained RF model. \n",
    "prediction_KNN = KNN_model.predict(X_test_feature)\n",
    "#Inverse le transform to get original label back. \n",
    "prediction_KNN = le.inverse_transform(prediction_KNN)"
   ]
  },
  {
   "cell_type": "code",
   "execution_count": 136,
   "id": "98945241",
   "metadata": {
    "colab": {
     "base_uri": "https://localhost:8080/"
    },
    "executionInfo": {
     "elapsed": 14,
     "status": "ok",
     "timestamp": 1640009139435,
     "user": {
      "displayName": "FIRAT YASAR",
      "photoUrl": "https://lh3.googleusercontent.com/a-/AOh14GhVcZnP-Z8h1PArfwtCXlEBwsA0em5WXleUX9MY=s64",
      "userId": "11059238169428736777"
     },
     "user_tz": -60
    },
    "id": "98945241",
    "outputId": "3898509d-5483-4d40-e37c-93d645c4c0c0"
   },
   "outputs": [
    {
     "name": "stdout",
     "output_type": "stream",
     "text": [
      "Accuracy =  0.5952380952380952\n"
     ]
    }
   ],
   "source": [
    "print (\"Accuracy = \", metrics.accuracy_score(test_labels, prediction_KNN))"
   ]
  },
  {
   "cell_type": "code",
   "execution_count": 137,
   "id": "6b070e68",
   "metadata": {
    "colab": {
     "base_uri": "https://localhost:8080/",
     "height": 282
    },
    "executionInfo": {
     "elapsed": 564,
     "status": "ok",
     "timestamp": 1640009139987,
     "user": {
      "displayName": "FIRAT YASAR",
      "photoUrl": "https://lh3.googleusercontent.com/a-/AOh14GhVcZnP-Z8h1PArfwtCXlEBwsA0em5WXleUX9MY=s64",
      "userId": "11059238169428736777"
     },
     "user_tz": -60
    },
    "id": "6b070e68",
    "outputId": "9cfa8dab-2ebc-4362-e206-e79d15477514",
    "scrolled": false
   },
   "outputs": [
    {
     "data": {
      "text/plain": [
       "<matplotlib.axes._subplots.AxesSubplot at 0x7f27524f9c10>"
      ]
     },
     "execution_count": 137,
     "metadata": {},
     "output_type": "execute_result"
    },
    {
     "data": {
      "image/png": "[encoded data removed]",
      "text/plain": [
       "<Figure size 432x288 with 2 Axes>"
      ]
     },
     "metadata": {
      "needs_background": "light"
     },
     "output_type": "display_data"
    }
   ],
   "source": [
    "#Confusion Matrix - verify accuracy of each class\n",
    "cm = confusion_matrix(test_labels, prediction_KNN)\n",
    "#print(cm)\n",
    "sns.heatmap(cm, annot=True)"
   ]
  }
 ],
 "metadata": {
  "accelerator": "GPU",
  "colab": {
   "collapsed_sections": [],
   "name": "P6_03_01_Computer_Vision_via_Deep_Learning_size_128.ipynb",
   "provenance": []
  },
  "kernelspec": {
   "display_name": "Python 3 (ipykernel)",
   "language": "python",
   "name": "python3"
  },
  "language_info": {
   "codemirror_mode": {
    "name": "ipython",
    "version": 3
   },
   "file_extension": ".py",
   "mimetype": "text/x-python",
   "name": "python",
   "nbconvert_exporter": "python",
   "pygments_lexer": "ipython3",
   "version": "3.9.7"
  }
 },
 "nbformat": 4,
 "nbformat_minor": 5
}
